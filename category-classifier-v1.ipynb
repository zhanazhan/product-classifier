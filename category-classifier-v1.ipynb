{
 "cells": [
  {
   "cell_type": "code",
   "execution_count": 2,
   "metadata": {},
   "outputs": [],
   "source": [
    "import pandas as pd\n",
    "import numpy as np\n",
    "import os\n",
    "import re\n",
    "from sklearn.feature_extraction.text import TfidfVectorizer\n",
    "from sklearn.metrics.pairwise import cosine_similarity\n",
    "from nltk.tokenize import TreebankWordTokenizer, casual_tokenize\n",
    "from collections import Counter\n",
    "from gensim.models.keyedvectors import KeyedVectors\n",
    "from gensim.models.fasttext import FastText"
   ]
  },
  {
   "cell_type": "code",
   "execution_count": 3,
   "metadata": {},
   "outputs": [],
   "source": [
    "data = pd.read_excel(\"ShopifyCategoryNames.xlsx\", sheet_name='Shopify Categories')\n",
    "ali_cats = pd.read_excel(\"ShopifyCategoryNames.xlsx\", sheet_name='Aliexpress Categories')"
   ]
  },
  {
   "cell_type": "code",
   "execution_count": 4,
   "metadata": {},
   "outputs": [
    {
     "data": {
      "text/html": [
       "<div>\n",
       "<style scoped>\n",
       "    .dataframe tbody tr th:only-of-type {\n",
       "        vertical-align: middle;\n",
       "    }\n",
       "\n",
       "    .dataframe tbody tr th {\n",
       "        vertical-align: top;\n",
       "    }\n",
       "\n",
       "    .dataframe thead th {\n",
       "        text-align: right;\n",
       "    }\n",
       "</style>\n",
       "<table border=\"1\" class=\"dataframe\">\n",
       "  <thead>\n",
       "    <tr style=\"text-align: right;\">\n",
       "      <th></th>\n",
       "      <th>Categories</th>\n",
       "    </tr>\n",
       "  </thead>\n",
       "  <tbody>\n",
       "    <tr>\n",
       "      <td>0</td>\n",
       "      <td>Cat_all Headphone Amplifiers &amp; Dac</td>\n",
       "    </tr>\n",
       "    <tr>\n",
       "      <td>1</td>\n",
       "      <td>Printed Range 210 Tc</td>\n",
       "    </tr>\n",
       "    <tr>\n",
       "      <td>2</td>\n",
       "      <td>Lanyards &amp;amp; Key Straps</td>\n",
       "    </tr>\n",
       "    <tr>\n",
       "      <td>3</td>\n",
       "      <td>Casual Button-ups</td>\n",
       "    </tr>\n",
       "    <tr>\n",
       "      <td>4</td>\n",
       "      <td>Zange</td>\n",
       "    </tr>\n",
       "  </tbody>\n",
       "</table>\n",
       "</div>"
      ],
      "text/plain": [
       "                           Categories\n",
       "0  Cat_all Headphone Amplifiers & Dac\n",
       "1                Printed Range 210 Tc\n",
       "2           Lanyards &amp; Key Straps\n",
       "3                   Casual Button-ups\n",
       "4                               Zange"
      ]
     },
     "execution_count": 4,
     "metadata": {},
     "output_type": "execute_result"
    }
   ],
   "source": [
    "data.head()"
   ]
  },
  {
   "cell_type": "code",
   "execution_count": 5,
   "metadata": {},
   "outputs": [
    {
     "data": {
      "text/html": [
       "<div>\n",
       "<style scoped>\n",
       "    .dataframe tbody tr th:only-of-type {\n",
       "        vertical-align: middle;\n",
       "    }\n",
       "\n",
       "    .dataframe tbody tr th {\n",
       "        vertical-align: top;\n",
       "    }\n",
       "\n",
       "    .dataframe thead th {\n",
       "        text-align: right;\n",
       "    }\n",
       "</style>\n",
       "<table border=\"1\" class=\"dataframe\">\n",
       "  <thead>\n",
       "    <tr style=\"text-align: right;\">\n",
       "      <th></th>\n",
       "      <th>Categories</th>\n",
       "    </tr>\n",
       "  </thead>\n",
       "  <tbody>\n",
       "    <tr>\n",
       "      <td>0</td>\n",
       "      <td>Women's Fashion</td>\n",
       "    </tr>\n",
       "    <tr>\n",
       "      <td>1</td>\n",
       "      <td>Men's Fashion</td>\n",
       "    </tr>\n",
       "    <tr>\n",
       "      <td>2</td>\n",
       "      <td>Phones &amp; Telecommunications</td>\n",
       "    </tr>\n",
       "    <tr>\n",
       "      <td>3</td>\n",
       "      <td>Computer</td>\n",
       "    </tr>\n",
       "    <tr>\n",
       "      <td>4</td>\n",
       "      <td>Consumer Electronics</td>\n",
       "    </tr>\n",
       "  </tbody>\n",
       "</table>\n",
       "</div>"
      ],
      "text/plain": [
       "                    Categories\n",
       "0              Women's Fashion\n",
       "1                Men's Fashion\n",
       "2  Phones & Telecommunications\n",
       "3                     Computer\n",
       "4         Consumer Electronics"
      ]
     },
     "execution_count": 5,
     "metadata": {},
     "output_type": "execute_result"
    }
   ],
   "source": [
    "ali_cats.head()"
   ]
  },
  {
   "cell_type": "code",
   "execution_count": 6,
   "metadata": {},
   "outputs": [],
   "source": [
    "data['Categories'] = data['Categories'].astype(str)\n",
    "all_categories = data['Categories'].tolist()\n",
    "joined_categories = \"\\n\".join(str(e) for e in all_categories)"
   ]
  },
  {
   "cell_type": "code",
   "execution_count": 7,
   "metadata": {},
   "outputs": [],
   "source": [
    "tokenizer = TreebankWordTokenizer()\n",
    "tokens = tokenizer.tokenize(joined_categories)"
   ]
  },
  {
   "cell_type": "code",
   "execution_count": 8,
   "metadata": {},
   "outputs": [],
   "source": [
    "bag_of_words = Counter(tokens)"
   ]
  },
  {
   "cell_type": "code",
   "execution_count": 9,
   "metadata": {},
   "outputs": [
    {
     "data": {
      "text/plain": [
       "[('&', 1576),\n",
       " (',', 1515),\n",
       " ('>', 1273),\n",
       " ('-', 1023),\n",
       " (\"'s\", 500),\n",
       " ('Accessories', 459),\n",
       " ('Women', 327),\n",
       " ('And', 312),\n",
       " ('Men', 252),\n",
       " ('Mens', 245)]"
      ]
     },
     "execution_count": 9,
     "metadata": {},
     "output_type": "execute_result"
    }
   ],
   "source": [
    "bag_of_words.most_common(10)"
   ]
  },
  {
   "cell_type": "code",
   "execution_count": 10,
   "metadata": {},
   "outputs": [],
   "source": [
    "# https://s3.amazonaws.com/dl4j-distribution/GoogleNews-vectors-negative300.bin.gz\n",
    "word_vectors = KeyedVectors.load_word2vec_format(\"GoogleNews-vectors-negative300.bin.gz\", binary=True)"
   ]
  },
  {
   "cell_type": "code",
   "execution_count": 11,
   "metadata": {},
   "outputs": [],
   "source": [
    "def top_words_to_string(positive, negative=None, topn=1000):\n",
    "    top_words = word_vectors.most_similar(positive=positive, negative=negative, topn=topn)\n",
    "    top_words_to_list = [x[0] for x in top_words]\n",
    "    string_mung = [x.replace(\"_\", \" \").lower() for x in top_words_to_list]\n",
    "    categories_string = \", \".join(string_mung)\n",
    "    return categories_string"
   ]
  },
  {
   "cell_type": "code",
   "execution_count": 28,
   "metadata": {},
   "outputs": [],
   "source": [
    "cat_0 = top_words_to_string(positive=['women', 'fashion'], negative=['man', 'men'])\n",
    "cat_1 = top_words_to_string(positive=['men', 'fashion'], negative=['woman', 'women'])\n",
    "cat_2 = top_words_to_string(positive=['telephone', 'smartphone', 'mobile', 'gadget'], negative=['computer'])\n",
    "cat_3 = top_words_to_string(positive=['computer', 'laptop', 'pc'])\n",
    "cat_4 = top_words_to_string(positive=['consumer', 'electronics'])\n",
    "cat_5 = top_words_to_string(positive=['jewerly', 'rings'])\n",
    "cat_6 = top_words_to_string(positive=['goods', 'home'])\n",
    "cat_7 = top_words_to_string(positive=['bags', 'backpack', 'handbag', 'wallet'], negative=['clothes'])\n",
    "cat_8 = top_words_to_string(positive=['toys', 'games'])\n",
    "cat_9 = top_words_to_string(positive=['outdoor', 'fun', 'sports'])\n",
    "cat_10 = top_words_to_string(positive=['beauty', 'health'])\n",
    "cat_11 = top_words_to_string(positive=['automobile', 'car'])\n",
    "cat_12 = top_words_to_string(positive=['home', 'improvement', 'furniture'])"
   ]
  },
  {
   "cell_type": "code",
   "execution_count": 13,
   "metadata": {},
   "outputs": [],
   "source": [
    "for_mapping = {ali_cats['Categories'][0]: cat_0, ali_cats['Categories'][1]: cat_1, \n",
    "               ali_cats['Categories'][2]: cat_2, ali_cats['Categories'][3]: cat_3, \n",
    "               ali_cats['Categories'][4]: cat_4, ali_cats['Categories'][5]: cat_5, \n",
    "               ali_cats['Categories'][6]: cat_6, ali_cats['Categories'][7]: cat_7,\n",
    "               ali_cats['Categories'][8]: cat_8, ali_cats['Categories'][9]: cat_9,\n",
    "               ali_cats['Categories'][10]: cat_10, ali_cats['Categories'][11]: cat_11,\n",
    "               ali_cats['Categories'][12]: cat_12}"
   ]
  },
  {
   "cell_type": "code",
   "execution_count": 14,
   "metadata": {},
   "outputs": [
    {
     "data": {
      "text/html": [
       "<div>\n",
       "<style scoped>\n",
       "    .dataframe tbody tr th:only-of-type {\n",
       "        vertical-align: middle;\n",
       "    }\n",
       "\n",
       "    .dataframe tbody tr th {\n",
       "        vertical-align: top;\n",
       "    }\n",
       "\n",
       "    .dataframe thead th {\n",
       "        text-align: right;\n",
       "    }\n",
       "</style>\n",
       "<table border=\"1\" class=\"dataframe\">\n",
       "  <thead>\n",
       "    <tr style=\"text-align: right;\">\n",
       "      <th></th>\n",
       "      <th>Categories</th>\n",
       "      <th>Words</th>\n",
       "    </tr>\n",
       "  </thead>\n",
       "  <tbody>\n",
       "    <tr>\n",
       "      <td>0</td>\n",
       "      <td>Women's Fashion</td>\n",
       "      <td>fashions, couture, fashion, moda operandi, raf...</td>\n",
       "    </tr>\n",
       "    <tr>\n",
       "      <td>1</td>\n",
       "      <td>Men's Fashion</td>\n",
       "      <td>fasion, menswear, men's wear, streetwear, wool...</td>\n",
       "    </tr>\n",
       "    <tr>\n",
       "      <td>2</td>\n",
       "      <td>Phones &amp; Telecommunications</td>\n",
       "      <td>handset, phone, smartphones, handsets, phones,...</td>\n",
       "    </tr>\n",
       "    <tr>\n",
       "      <td>3</td>\n",
       "      <td>Computer</td>\n",
       "      <td>computers, laptop computer, laptops, pc, pcs, ...</td>\n",
       "    </tr>\n",
       "    <tr>\n",
       "      <td>4</td>\n",
       "      <td>Consumer Electronics</td>\n",
       "      <td>consumer electronics, maker aeroflex holding, ...</td>\n",
       "    </tr>\n",
       "  </tbody>\n",
       "</table>\n",
       "</div>"
      ],
      "text/plain": [
       "                    Categories  \\\n",
       "0              Women's Fashion   \n",
       "1                Men's Fashion   \n",
       "2  Phones & Telecommunications   \n",
       "3                     Computer   \n",
       "4         Consumer Electronics   \n",
       "\n",
       "                                               Words  \n",
       "0  fashions, couture, fashion, moda operandi, raf...  \n",
       "1  fasion, menswear, men's wear, streetwear, wool...  \n",
       "2  handset, phone, smartphones, handsets, phones,...  \n",
       "3  computers, laptop computer, laptops, pc, pcs, ...  \n",
       "4  consumer electronics, maker aeroflex holding, ...  "
      ]
     },
     "execution_count": 14,
     "metadata": {},
     "output_type": "execute_result"
    }
   ],
   "source": [
    "ali_cats['Words'] = ali_cats['Categories'].map(for_mapping)\n",
    "ali_cats.head()"
   ]
  },
  {
   "cell_type": "code",
   "execution_count": 15,
   "metadata": {},
   "outputs": [],
   "source": [
    "vectorizer = TfidfVectorizer(min_df=1)"
   ]
  },
  {
   "cell_type": "code",
   "execution_count": 16,
   "metadata": {},
   "outputs": [],
   "source": [
    "model = vectorizer.fit_transform(ali_cats['Words'])\n",
    "target = model.todense().round(2)"
   ]
  },
  {
   "cell_type": "code",
   "execution_count": 17,
   "metadata": {},
   "outputs": [],
   "source": [
    "matching = vectorizer.transform(data['Categories']).todense().round(2)"
   ]
  },
  {
   "cell_type": "code",
   "execution_count": 18,
   "metadata": {},
   "outputs": [
    {
     "data": {
      "text/plain": [
       "(23556, 12118)"
      ]
     },
     "execution_count": 18,
     "metadata": {},
     "output_type": "execute_result"
    }
   ],
   "source": [
    "shopify_categ = pd.DataFrame(matching, columns=vectorizer.get_feature_names())\n",
    "shopify_categ.shape"
   ]
  },
  {
   "cell_type": "code",
   "execution_count": 19,
   "metadata": {},
   "outputs": [
    {
     "data": {
      "text/plain": [
       "(13, 12118)"
      ]
     },
     "execution_count": 19,
     "metadata": {},
     "output_type": "execute_result"
    }
   ],
   "source": [
    "aliexpress_categ = pd.DataFrame(target, columns=vectorizer.get_feature_names())\n",
    "aliexpress_categ.shape"
   ]
  },
  {
   "cell_type": "code",
   "execution_count": 20,
   "metadata": {},
   "outputs": [],
   "source": [
    "cos_sim = cosine_similarity(shopify_categ.values, aliexpress_categ.values)"
   ]
  },
  {
   "cell_type": "code",
   "execution_count": 21,
   "metadata": {},
   "outputs": [
    {
     "data": {
      "text/html": [
       "<div>\n",
       "<style scoped>\n",
       "    .dataframe tbody tr th:only-of-type {\n",
       "        vertical-align: middle;\n",
       "    }\n",
       "\n",
       "    .dataframe tbody tr th {\n",
       "        vertical-align: top;\n",
       "    }\n",
       "\n",
       "    .dataframe thead th {\n",
       "        text-align: right;\n",
       "    }\n",
       "</style>\n",
       "<table border=\"1\" class=\"dataframe\">\n",
       "  <thead>\n",
       "    <tr style=\"text-align: right;\">\n",
       "      <th></th>\n",
       "      <th>Women's Fashion</th>\n",
       "      <th>Men's Fashion</th>\n",
       "      <th>Phones &amp; Telecommunications</th>\n",
       "      <th>Computer</th>\n",
       "      <th>Consumer Electronics</th>\n",
       "      <th>Jewelry</th>\n",
       "      <th>Home</th>\n",
       "      <th>Bags</th>\n",
       "      <th>Toys</th>\n",
       "      <th>Outdoor Fun &amp; Sports</th>\n",
       "      <th>Beauty, Health</th>\n",
       "      <th>Automobiles &amp; Motorcycles</th>\n",
       "      <th>Home Improvement</th>\n",
       "    </tr>\n",
       "  </thead>\n",
       "  <tbody>\n",
       "    <tr>\n",
       "      <td>Cat_all Headphone Amplifiers &amp; Dac</td>\n",
       "      <td>0.00</td>\n",
       "      <td>0.0</td>\n",
       "      <td>0.00</td>\n",
       "      <td>0.0</td>\n",
       "      <td>0.00</td>\n",
       "      <td>0.0</td>\n",
       "      <td>0.0</td>\n",
       "      <td>0.00</td>\n",
       "      <td>0.0</td>\n",
       "      <td>0.0</td>\n",
       "      <td>0.0</td>\n",
       "      <td>0.00</td>\n",
       "      <td>0.00</td>\n",
       "    </tr>\n",
       "    <tr>\n",
       "      <td>Printed Range 210 Tc</td>\n",
       "      <td>0.00</td>\n",
       "      <td>0.0</td>\n",
       "      <td>0.01</td>\n",
       "      <td>0.0</td>\n",
       "      <td>0.01</td>\n",
       "      <td>0.0</td>\n",
       "      <td>0.0</td>\n",
       "      <td>0.00</td>\n",
       "      <td>0.0</td>\n",
       "      <td>0.0</td>\n",
       "      <td>0.0</td>\n",
       "      <td>0.01</td>\n",
       "      <td>0.00</td>\n",
       "    </tr>\n",
       "    <tr>\n",
       "      <td>Lanyards &amp;amp; Key Straps</td>\n",
       "      <td>0.00</td>\n",
       "      <td>0.0</td>\n",
       "      <td>0.00</td>\n",
       "      <td>0.0</td>\n",
       "      <td>0.00</td>\n",
       "      <td>0.0</td>\n",
       "      <td>0.0</td>\n",
       "      <td>0.02</td>\n",
       "      <td>0.0</td>\n",
       "      <td>0.0</td>\n",
       "      <td>0.0</td>\n",
       "      <td>0.00</td>\n",
       "      <td>0.00</td>\n",
       "    </tr>\n",
       "    <tr>\n",
       "      <td>Casual Button-ups</td>\n",
       "      <td>0.03</td>\n",
       "      <td>0.0</td>\n",
       "      <td>0.00</td>\n",
       "      <td>0.0</td>\n",
       "      <td>0.00</td>\n",
       "      <td>0.0</td>\n",
       "      <td>0.0</td>\n",
       "      <td>0.00</td>\n",
       "      <td>0.0</td>\n",
       "      <td>0.0</td>\n",
       "      <td>0.0</td>\n",
       "      <td>0.00</td>\n",
       "      <td>0.01</td>\n",
       "    </tr>\n",
       "    <tr>\n",
       "      <td>Zange</td>\n",
       "      <td>0.00</td>\n",
       "      <td>0.0</td>\n",
       "      <td>0.00</td>\n",
       "      <td>0.0</td>\n",
       "      <td>0.00</td>\n",
       "      <td>0.0</td>\n",
       "      <td>0.0</td>\n",
       "      <td>0.00</td>\n",
       "      <td>0.0</td>\n",
       "      <td>0.0</td>\n",
       "      <td>0.0</td>\n",
       "      <td>0.00</td>\n",
       "      <td>0.00</td>\n",
       "    </tr>\n",
       "  </tbody>\n",
       "</table>\n",
       "</div>"
      ],
      "text/plain": [
       "                                    Women's Fashion  Men's Fashion  \\\n",
       "Cat_all Headphone Amplifiers & Dac             0.00            0.0   \n",
       "Printed Range 210 Tc                           0.00            0.0   \n",
       "Lanyards &amp; Key Straps                      0.00            0.0   \n",
       "Casual Button-ups                              0.03            0.0   \n",
       "Zange                                          0.00            0.0   \n",
       "\n",
       "                                    Phones & Telecommunications  Computer  \\\n",
       "Cat_all Headphone Amplifiers & Dac                         0.00       0.0   \n",
       "Printed Range 210 Tc                                       0.01       0.0   \n",
       "Lanyards &amp; Key Straps                                  0.00       0.0   \n",
       "Casual Button-ups                                          0.00       0.0   \n",
       "Zange                                                      0.00       0.0   \n",
       "\n",
       "                                    Consumer Electronics  Jewelry  Home  Bags  \\\n",
       "Cat_all Headphone Amplifiers & Dac                  0.00      0.0   0.0  0.00   \n",
       "Printed Range 210 Tc                                0.01      0.0   0.0  0.00   \n",
       "Lanyards &amp; Key Straps                           0.00      0.0   0.0  0.02   \n",
       "Casual Button-ups                                   0.00      0.0   0.0  0.00   \n",
       "Zange                                               0.00      0.0   0.0  0.00   \n",
       "\n",
       "                                    Toys  Outdoor Fun & Sports  \\\n",
       "Cat_all Headphone Amplifiers & Dac   0.0                   0.0   \n",
       "Printed Range 210 Tc                 0.0                   0.0   \n",
       "Lanyards &amp; Key Straps            0.0                   0.0   \n",
       "Casual Button-ups                    0.0                   0.0   \n",
       "Zange                                0.0                   0.0   \n",
       "\n",
       "                                    Beauty, Health  Automobiles & Motorcycles  \\\n",
       "Cat_all Headphone Amplifiers & Dac             0.0                       0.00   \n",
       "Printed Range 210 Tc                           0.0                       0.01   \n",
       "Lanyards &amp; Key Straps                      0.0                       0.00   \n",
       "Casual Button-ups                              0.0                       0.00   \n",
       "Zange                                          0.0                       0.00   \n",
       "\n",
       "                                    Home Improvement  \n",
       "Cat_all Headphone Amplifiers & Dac              0.00  \n",
       "Printed Range 210 Tc                            0.00  \n",
       "Lanyards &amp; Key Straps                       0.00  \n",
       "Casual Button-ups                               0.01  \n",
       "Zange                                           0.00  "
      ]
     },
     "execution_count": 21,
     "metadata": {},
     "output_type": "execute_result"
    }
   ],
   "source": [
    "cos_sim_df = pd.DataFrame(cos_sim).round(2)\n",
    "cos_sim_df.columns = ali_cats['Categories'].values\n",
    "cos_sim_df.index = data['Categories'].values\n",
    "cos_sim_df.head()"
   ]
  },
  {
   "cell_type": "code",
   "execution_count": 22,
   "metadata": {},
   "outputs": [
    {
     "data": {
      "text/html": [
       "<div>\n",
       "<style scoped>\n",
       "    .dataframe tbody tr th:only-of-type {\n",
       "        vertical-align: middle;\n",
       "    }\n",
       "\n",
       "    .dataframe tbody tr th {\n",
       "        vertical-align: top;\n",
       "    }\n",
       "\n",
       "    .dataframe thead th {\n",
       "        text-align: right;\n",
       "    }\n",
       "</style>\n",
       "<table border=\"1\" class=\"dataframe\">\n",
       "  <thead>\n",
       "    <tr style=\"text-align: right;\">\n",
       "      <th></th>\n",
       "      <th>0</th>\n",
       "    </tr>\n",
       "  </thead>\n",
       "  <tbody>\n",
       "    <tr>\n",
       "      <td>0</td>\n",
       "      <td>1</td>\n",
       "    </tr>\n",
       "    <tr>\n",
       "      <td>1</td>\n",
       "      <td>0</td>\n",
       "    </tr>\n",
       "    <tr>\n",
       "      <td>2</td>\n",
       "      <td>0</td>\n",
       "    </tr>\n",
       "    <tr>\n",
       "      <td>3</td>\n",
       "      <td>0</td>\n",
       "    </tr>\n",
       "    <tr>\n",
       "      <td>4</td>\n",
       "      <td>1</td>\n",
       "    </tr>\n",
       "  </tbody>\n",
       "</table>\n",
       "</div>"
      ],
      "text/plain": [
       "   0\n",
       "0  1\n",
       "1  0\n",
       "2  0\n",
       "3  0\n",
       "4  1"
      ]
     },
     "execution_count": 22,
     "metadata": {},
     "output_type": "execute_result"
    }
   ],
   "source": [
    "for_other_category = pd.DataFrame()\n",
    "for_other_category = np.where(cos_sim_df.sum(axis=1) == 0.0, 1, 0)\n",
    "for_other_category = pd.DataFrame(for_other_category)\n",
    "for_other_category.head()"
   ]
  },
  {
   "cell_type": "code",
   "execution_count": 29,
   "metadata": {},
   "outputs": [
    {
     "data": {
      "text/html": [
       "<div>\n",
       "<style scoped>\n",
       "    .dataframe tbody tr th:only-of-type {\n",
       "        vertical-align: middle;\n",
       "    }\n",
       "\n",
       "    .dataframe tbody tr th {\n",
       "        vertical-align: top;\n",
       "    }\n",
       "\n",
       "    .dataframe thead th {\n",
       "        text-align: right;\n",
       "    }\n",
       "</style>\n",
       "<table border=\"1\" class=\"dataframe\">\n",
       "  <thead>\n",
       "    <tr style=\"text-align: right;\">\n",
       "      <th></th>\n",
       "      <th>Shopify</th>\n",
       "      <th>Ali_temp</th>\n",
       "      <th>Indicator</th>\n",
       "    </tr>\n",
       "  </thead>\n",
       "  <tbody>\n",
       "    <tr>\n",
       "      <td>0</td>\n",
       "      <td>Cat_all Headphone Amplifiers &amp; Dac</td>\n",
       "      <td>Women's Fashion</td>\n",
       "      <td>1</td>\n",
       "    </tr>\n",
       "    <tr>\n",
       "      <td>1</td>\n",
       "      <td>Printed Range 210 Tc</td>\n",
       "      <td>Phones &amp; Telecommunications</td>\n",
       "      <td>0</td>\n",
       "    </tr>\n",
       "    <tr>\n",
       "      <td>2</td>\n",
       "      <td>Lanyards &amp;amp; Key Straps</td>\n",
       "      <td>Bags</td>\n",
       "      <td>0</td>\n",
       "    </tr>\n",
       "    <tr>\n",
       "      <td>3</td>\n",
       "      <td>Casual Button-ups</td>\n",
       "      <td>Women's Fashion</td>\n",
       "      <td>0</td>\n",
       "    </tr>\n",
       "    <tr>\n",
       "      <td>4</td>\n",
       "      <td>Zange</td>\n",
       "      <td>Women's Fashion</td>\n",
       "      <td>1</td>\n",
       "    </tr>\n",
       "  </tbody>\n",
       "</table>\n",
       "</div>"
      ],
      "text/plain": [
       "                              Shopify                     Ali_temp  Indicator\n",
       "0  Cat_all Headphone Amplifiers & Dac              Women's Fashion          1\n",
       "1                Printed Range 210 Tc  Phones & Telecommunications          0\n",
       "2           Lanyards &amp; Key Straps                         Bags          0\n",
       "3                   Casual Button-ups              Women's Fashion          0\n",
       "4                               Zange              Women's Fashion          1"
      ]
     },
     "execution_count": 29,
     "metadata": {},
     "output_type": "execute_result"
    }
   ],
   "source": [
    "match_arg_max = cos_sim_df.idxmax(axis=1)\n",
    "final_match = match_arg_max.to_frame().reset_index()\n",
    "final_match = final_match.merge(for_other_category, left_index=True, right_index=True)\n",
    "final_match.columns = ['Shopify', 'Ali_temp', 'Indicator']\n",
    "final_match.head()"
   ]
  },
  {
   "cell_type": "code",
   "execution_count": 30,
   "metadata": {},
   "outputs": [
    {
     "data": {
      "text/html": [
       "<div>\n",
       "<style scoped>\n",
       "    .dataframe tbody tr th:only-of-type {\n",
       "        vertical-align: middle;\n",
       "    }\n",
       "\n",
       "    .dataframe tbody tr th {\n",
       "        vertical-align: top;\n",
       "    }\n",
       "\n",
       "    .dataframe thead th {\n",
       "        text-align: right;\n",
       "    }\n",
       "</style>\n",
       "<table border=\"1\" class=\"dataframe\">\n",
       "  <thead>\n",
       "    <tr style=\"text-align: right;\">\n",
       "      <th></th>\n",
       "      <th>Shopify</th>\n",
       "      <th>Aliexpress</th>\n",
       "    </tr>\n",
       "  </thead>\n",
       "  <tbody>\n",
       "    <tr>\n",
       "      <td>0</td>\n",
       "      <td>Cat_all Headphone Amplifiers &amp; Dac</td>\n",
       "      <td>Other</td>\n",
       "    </tr>\n",
       "    <tr>\n",
       "      <td>1</td>\n",
       "      <td>Printed Range 210 Tc</td>\n",
       "      <td>Phones &amp; Telecommunications</td>\n",
       "    </tr>\n",
       "    <tr>\n",
       "      <td>2</td>\n",
       "      <td>Lanyards &amp;amp; Key Straps</td>\n",
       "      <td>Bags</td>\n",
       "    </tr>\n",
       "    <tr>\n",
       "      <td>3</td>\n",
       "      <td>Casual Button-ups</td>\n",
       "      <td>Women's Fashion</td>\n",
       "    </tr>\n",
       "    <tr>\n",
       "      <td>4</td>\n",
       "      <td>Zange</td>\n",
       "      <td>Other</td>\n",
       "    </tr>\n",
       "  </tbody>\n",
       "</table>\n",
       "</div>"
      ],
      "text/plain": [
       "                              Shopify                   Aliexpress\n",
       "0  Cat_all Headphone Amplifiers & Dac                        Other\n",
       "1                Printed Range 210 Tc  Phones & Telecommunications\n",
       "2           Lanyards &amp; Key Straps                         Bags\n",
       "3                   Casual Button-ups              Women's Fashion\n",
       "4                               Zange                        Other"
      ]
     },
     "execution_count": 30,
     "metadata": {},
     "output_type": "execute_result"
    }
   ],
   "source": [
    "final_match['Aliexpress'] = np.where(final_match['Indicator'] == 1, \"Other\", final_match['Ali_temp'])\n",
    "final_match = final_match[['Shopify', 'Aliexpress']]\n",
    "final_match.head()"
   ]
  },
  {
   "cell_type": "code",
   "execution_count": 25,
   "metadata": {},
   "outputs": [
    {
     "data": {
      "text/html": [
       "<div>\n",
       "<style scoped>\n",
       "    .dataframe tbody tr th:only-of-type {\n",
       "        vertical-align: middle;\n",
       "    }\n",
       "\n",
       "    .dataframe tbody tr th {\n",
       "        vertical-align: top;\n",
       "    }\n",
       "\n",
       "    .dataframe thead th {\n",
       "        text-align: right;\n",
       "    }\n",
       "</style>\n",
       "<table border=\"1\" class=\"dataframe\">\n",
       "  <thead>\n",
       "    <tr style=\"text-align: right;\">\n",
       "      <th></th>\n",
       "      <th>Shopify</th>\n",
       "      <th>Aliexpress</th>\n",
       "    </tr>\n",
       "  </thead>\n",
       "  <tbody>\n",
       "    <tr>\n",
       "      <td>0</td>\n",
       "      <td>Cat_all Headphone Amplifiers &amp; Dac</td>\n",
       "      <td>Other</td>\n",
       "    </tr>\n",
       "    <tr>\n",
       "      <td>1</td>\n",
       "      <td>Printed Range 210 Tc</td>\n",
       "      <td>Phones &amp; Telecommunications</td>\n",
       "    </tr>\n",
       "    <tr>\n",
       "      <td>2</td>\n",
       "      <td>Lanyards &amp;amp; Key Straps</td>\n",
       "      <td>Bags</td>\n",
       "    </tr>\n",
       "    <tr>\n",
       "      <td>3</td>\n",
       "      <td>Casual Button-ups</td>\n",
       "      <td>Women's Fashion</td>\n",
       "    </tr>\n",
       "    <tr>\n",
       "      <td>4</td>\n",
       "      <td>Zange</td>\n",
       "      <td>Other</td>\n",
       "    </tr>\n",
       "  </tbody>\n",
       "</table>\n",
       "</div>"
      ],
      "text/plain": [
       "                              Shopify                   Aliexpress\n",
       "0  Cat_all Headphone Amplifiers & Dac                        Other\n",
       "1                Printed Range 210 Tc  Phones & Telecommunications\n",
       "2           Lanyards &amp; Key Straps                         Bags\n",
       "3                   Casual Button-ups              Women's Fashion\n",
       "4                               Zange                        Other"
      ]
     },
     "execution_count": 25,
     "metadata": {},
     "output_type": "execute_result"
    }
   ],
   "source": [
    "final_match.head()"
   ]
  },
  {
   "cell_type": "code",
   "execution_count": 32,
   "metadata": {},
   "outputs": [
    {
     "data": {
      "text/html": [
       "<div>\n",
       "<style scoped>\n",
       "    .dataframe tbody tr th:only-of-type {\n",
       "        vertical-align: middle;\n",
       "    }\n",
       "\n",
       "    .dataframe tbody tr th {\n",
       "        vertical-align: top;\n",
       "    }\n",
       "\n",
       "    .dataframe thead th {\n",
       "        text-align: right;\n",
       "    }\n",
       "</style>\n",
       "<table border=\"1\" class=\"dataframe\">\n",
       "  <thead>\n",
       "    <tr style=\"text-align: right;\">\n",
       "      <th></th>\n",
       "      <th>Shopify</th>\n",
       "      <th>Aliexpress</th>\n",
       "    </tr>\n",
       "  </thead>\n",
       "  <tbody>\n",
       "    <tr>\n",
       "      <td>1937</td>\n",
       "      <td>Galaxy M20</td>\n",
       "      <td>Phones &amp; Telecommunications</td>\n",
       "    </tr>\n",
       "    <tr>\n",
       "      <td>4879</td>\n",
       "      <td>Glitter Ii</td>\n",
       "      <td>Phones &amp; Telecommunications</td>\n",
       "    </tr>\n",
       "    <tr>\n",
       "      <td>4316</td>\n",
       "      <td>Marine Perpetual Calendar Limited Edition</td>\n",
       "      <td>Phones &amp; Telecommunications</td>\n",
       "    </tr>\n",
       "    <tr>\n",
       "      <td>8865</td>\n",
       "      <td>Sony Xperia 10 Plus</td>\n",
       "      <td>Phones &amp; Telecommunications</td>\n",
       "    </tr>\n",
       "    <tr>\n",
       "      <td>19291</td>\n",
       "      <td>Lg K10</td>\n",
       "      <td>Phones &amp; Telecommunications</td>\n",
       "    </tr>\n",
       "    <tr>\n",
       "      <td>4916</td>\n",
       "      <td>Galaxy S10 Lite Spartan</td>\n",
       "      <td>Phones &amp; Telecommunications</td>\n",
       "    </tr>\n",
       "    <tr>\n",
       "      <td>13825</td>\n",
       "      <td>Tattoo Needles</td>\n",
       "      <td>Phones &amp; Telecommunications</td>\n",
       "    </tr>\n",
       "    <tr>\n",
       "      <td>20759</td>\n",
       "      <td>Cricket Bat</td>\n",
       "      <td>Phones &amp; Telecommunications</td>\n",
       "    </tr>\n",
       "    <tr>\n",
       "      <td>3351</td>\n",
       "      <td>Samsung S10+ Plus Atomic Slim 2</td>\n",
       "      <td>Phones &amp; Telecommunications</td>\n",
       "    </tr>\n",
       "    <tr>\n",
       "      <td>10267</td>\n",
       "      <td>Mobile Device Chargers</td>\n",
       "      <td>Phones &amp; Telecommunications</td>\n",
       "    </tr>\n",
       "  </tbody>\n",
       "</table>\n",
       "</div>"
      ],
      "text/plain": [
       "                                         Shopify                   Aliexpress\n",
       "1937                                  Galaxy M20  Phones & Telecommunications\n",
       "4879                                  Glitter Ii  Phones & Telecommunications\n",
       "4316   Marine Perpetual Calendar Limited Edition  Phones & Telecommunications\n",
       "8865                         Sony Xperia 10 Plus  Phones & Telecommunications\n",
       "19291                                     Lg K10  Phones & Telecommunications\n",
       "4916                     Galaxy S10 Lite Spartan  Phones & Telecommunications\n",
       "13825                             Tattoo Needles  Phones & Telecommunications\n",
       "20759                                Cricket Bat  Phones & Telecommunications\n",
       "3351             Samsung S10+ Plus Atomic Slim 2  Phones & Telecommunications\n",
       "10267                     Mobile Device Chargers  Phones & Telecommunications"
      ]
     },
     "execution_count": 32,
     "metadata": {},
     "output_type": "execute_result"
    }
   ],
   "source": [
    "final_match[final_match.Aliexpress == \"Phones & Telecommunications\"].sample(10)"
   ]
  },
  {
   "cell_type": "code",
   "execution_count": 37,
   "metadata": {},
   "outputs": [
    {
     "data": {
      "text/html": [
       "<div>\n",
       "<style scoped>\n",
       "    .dataframe tbody tr th:only-of-type {\n",
       "        vertical-align: middle;\n",
       "    }\n",
       "\n",
       "    .dataframe tbody tr th {\n",
       "        vertical-align: top;\n",
       "    }\n",
       "\n",
       "    .dataframe thead th {\n",
       "        text-align: right;\n",
       "    }\n",
       "</style>\n",
       "<table border=\"1\" class=\"dataframe\">\n",
       "  <thead>\n",
       "    <tr style=\"text-align: right;\">\n",
       "      <th></th>\n",
       "      <th>Shopify</th>\n",
       "      <th>Aliexpress</th>\n",
       "    </tr>\n",
       "  </thead>\n",
       "  <tbody>\n",
       "    <tr>\n",
       "      <td>15325</td>\n",
       "      <td>Exec 3 Note 9</td>\n",
       "      <td>Home</td>\n",
       "    </tr>\n",
       "    <tr>\n",
       "      <td>23189</td>\n",
       "      <td>Back Support</td>\n",
       "      <td>Home</td>\n",
       "    </tr>\n",
       "    <tr>\n",
       "      <td>11523</td>\n",
       "      <td>Bird-baths &amp; Houses</td>\n",
       "      <td>Home</td>\n",
       "    </tr>\n",
       "    <tr>\n",
       "      <td>22096</td>\n",
       "      <td>Bolder Borders® – Sparkle Plus</td>\n",
       "      <td>Home</td>\n",
       "    </tr>\n",
       "    <tr>\n",
       "      <td>11973</td>\n",
       "      <td>Loose Setting Powder</td>\n",
       "      <td>Home</td>\n",
       "    </tr>\n",
       "    <tr>\n",
       "      <td>21320</td>\n",
       "      <td>Foot Support</td>\n",
       "      <td>Home</td>\n",
       "    </tr>\n",
       "    <tr>\n",
       "      <td>20353</td>\n",
       "      <td>Food Storage Containers</td>\n",
       "      <td>Home</td>\n",
       "    </tr>\n",
       "    <tr>\n",
       "      <td>12932</td>\n",
       "      <td>Travel Organizer</td>\n",
       "      <td>Home</td>\n",
       "    </tr>\n",
       "    <tr>\n",
       "      <td>5949</td>\n",
       "      <td>Small Animal-treats</td>\n",
       "      <td>Home</td>\n",
       "    </tr>\n",
       "    <tr>\n",
       "      <td>7687</td>\n",
       "      <td>Car Strip Light</td>\n",
       "      <td>Home</td>\n",
       "    </tr>\n",
       "  </tbody>\n",
       "</table>\n",
       "</div>"
      ],
      "text/plain": [
       "                              Shopify Aliexpress\n",
       "15325                   Exec 3 Note 9       Home\n",
       "23189                    Back Support       Home\n",
       "11523             Bird-baths & Houses       Home\n",
       "22096  Bolder Borders® – Sparkle Plus       Home\n",
       "11973            Loose Setting Powder       Home\n",
       "21320                    Foot Support       Home\n",
       "20353         Food Storage Containers       Home\n",
       "12932                Travel Organizer       Home\n",
       "5949              Small Animal-treats       Home\n",
       "7687                  Car Strip Light       Home"
      ]
     },
     "execution_count": 37,
     "metadata": {},
     "output_type": "execute_result"
    }
   ],
   "source": [
    "final_match[final_match.Aliexpress == \"Home\"].sample(10)"
   ]
  },
  {
   "cell_type": "code",
   "execution_count": 26,
   "metadata": {},
   "outputs": [],
   "source": [
    "final_match.to_csv(\"final_match.csv\")"
   ]
  },
  {
   "cell_type": "code",
   "execution_count": 27,
   "metadata": {},
   "outputs": [],
   "source": [
    "cos_sim_df.to_csv(\"cos_sim.csv\")"
   ]
  },
  {
   "cell_type": "code",
   "execution_count": null,
   "metadata": {},
   "outputs": [],
   "source": []
  }
 ],
 "metadata": {
  "kernelspec": {
   "display_name": "Python 3",
   "language": "python",
   "name": "python3"
  },
  "language_info": {
   "codemirror_mode": {
    "name": "ipython",
    "version": 3
   },
   "file_extension": ".py",
   "mimetype": "text/x-python",
   "name": "python",
   "nbconvert_exporter": "python",
   "pygments_lexer": "ipython3",
   "version": "3.7.4"
  }
 },
 "nbformat": 4,
 "nbformat_minor": 4
}
