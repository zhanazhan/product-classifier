{
 "cells": [
  {
   "cell_type": "code",
   "execution_count": 37,
   "metadata": {
    "pycharm": {
     "is_executing": false
    }
   },
   "outputs": [],
   "source": [
    "import pandas as pd\n",
    "import numpy as np\n",
    "from sklearn.feature_extraction.text import TfidfVectorizer\n",
    "from sklearn.model_selection import train_test_split\n",
    "from sklearn.ensemble import RandomForestClassifier\n",
    "from sklearn.metrics import accuracy_score\n",
    "from sklearn.decomposition import TruncatedSVD\n",
    "import pickle\n",
    "import joblib\n",
    "import xgboost as xgb # conda install -c anaconda py-xgboost"
   ]
  },
  {
   "cell_type": "code",
   "execution_count": 39,
   "metadata": {
    "pycharm": {
     "is_executing": false
    }
   },
   "outputs": [],
   "source": [
    "shopify_prod = pd.read_csv(\"shopifyProducts.csv\")\n",
    "ali_prod = pd.read_csv(\"aliProducts.csv\")\n",
    "ali_prod.drop_duplicates()\n",
    "ali_dict = pd.read_csv(\"aliCategories.csv\")"
   ]
  },
  {
   "cell_type": "code",
   "execution_count": 40,
   "metadata": {},
   "outputs": [
    {
     "data": {
      "text/html": [
       "<div>\n",
       "<style scoped>\n",
       "    .dataframe tbody tr th:only-of-type {\n",
       "        vertical-align: middle;\n",
       "    }\n",
       "\n",
       "    .dataframe tbody tr th {\n",
       "        vertical-align: top;\n",
       "    }\n",
       "\n",
       "    .dataframe thead th {\n",
       "        text-align: right;\n",
       "    }\n",
       "</style>\n",
       "<table border=\"1\" class=\"dataframe\">\n",
       "  <thead>\n",
       "    <tr style=\"text-align: right;\">\n",
       "      <th></th>\n",
       "      <th>categoryId</th>\n",
       "      <th>text</th>\n",
       "    </tr>\n",
       "  </thead>\n",
       "  <tbody>\n",
       "    <tr>\n",
       "      <td>0</td>\n",
       "      <td>100003109</td>\n",
       "      <td>Women's Fashion</td>\n",
       "    </tr>\n",
       "    <tr>\n",
       "      <td>1</td>\n",
       "      <td>100003070</td>\n",
       "      <td>Men's Fashion</td>\n",
       "    </tr>\n",
       "    <tr>\n",
       "      <td>2</td>\n",
       "      <td>509</td>\n",
       "      <td>Phones &amp; Telecommunications</td>\n",
       "    </tr>\n",
       "    <tr>\n",
       "      <td>3</td>\n",
       "      <td>7</td>\n",
       "      <td>Computer</td>\n",
       "    </tr>\n",
       "    <tr>\n",
       "      <td>4</td>\n",
       "      <td>44</td>\n",
       "      <td>Consumer Electronics</td>\n",
       "    </tr>\n",
       "    <tr>\n",
       "      <td>5</td>\n",
       "      <td>1509</td>\n",
       "      <td>Jewelry</td>\n",
       "    </tr>\n",
       "    <tr>\n",
       "      <td>6</td>\n",
       "      <td>15</td>\n",
       "      <td>Home</td>\n",
       "    </tr>\n",
       "    <tr>\n",
       "      <td>7</td>\n",
       "      <td>1524</td>\n",
       "      <td>Bags</td>\n",
       "    </tr>\n",
       "    <tr>\n",
       "      <td>8</td>\n",
       "      <td>26</td>\n",
       "      <td>Toys</td>\n",
       "    </tr>\n",
       "    <tr>\n",
       "      <td>9</td>\n",
       "      <td>18</td>\n",
       "      <td>Outdoor Fun &amp; Sports</td>\n",
       "    </tr>\n",
       "    <tr>\n",
       "      <td>10</td>\n",
       "      <td>66</td>\n",
       "      <td>Beauty, Health</td>\n",
       "    </tr>\n",
       "    <tr>\n",
       "      <td>11</td>\n",
       "      <td>34</td>\n",
       "      <td>Automobiles &amp; Motorcycles</td>\n",
       "    </tr>\n",
       "    <tr>\n",
       "      <td>12</td>\n",
       "      <td>13</td>\n",
       "      <td>Home Improvement</td>\n",
       "    </tr>\n",
       "  </tbody>\n",
       "</table>\n",
       "</div>"
      ],
      "text/plain": [
       "    categoryId                         text\n",
       "0    100003109              Women's Fashion\n",
       "1    100003070                Men's Fashion\n",
       "2          509  Phones & Telecommunications\n",
       "3            7                     Computer\n",
       "4           44         Consumer Electronics\n",
       "5         1509                      Jewelry\n",
       "6           15                         Home\n",
       "7         1524                         Bags\n",
       "8           26                         Toys\n",
       "9           18         Outdoor Fun & Sports\n",
       "10          66               Beauty, Health\n",
       "11          34    Automobiles & Motorcycles\n",
       "12          13             Home Improvement"
      ]
     },
     "execution_count": 40,
     "metadata": {},
     "output_type": "execute_result"
    }
   ],
   "source": [
    "ali_dict"
   ]
  },
  {
   "cell_type": "code",
   "execution_count": 41,
   "metadata": {
    "jupyter": {
     "source_hidden": true
    },
    "pycharm": {
     "is_executing": false
    }
   },
   "outputs": [
    {
     "data": {
      "text/html": [
       "<div>\n",
       "<style scoped>\n",
       "    .dataframe tbody tr th:only-of-type {\n",
       "        vertical-align: middle;\n",
       "    }\n",
       "\n",
       "    .dataframe tbody tr th {\n",
       "        vertical-align: top;\n",
       "    }\n",
       "\n",
       "    .dataframe thead th {\n",
       "        text-align: right;\n",
       "    }\n",
       "</style>\n",
       "<table border=\"1\" class=\"dataframe\">\n",
       "  <thead>\n",
       "    <tr style=\"text-align: right;\">\n",
       "      <th></th>\n",
       "      <th>category</th>\n",
       "      <th>products</th>\n",
       "    </tr>\n",
       "  </thead>\n",
       "  <tbody>\n",
       "    <tr>\n",
       "      <td>0</td>\n",
       "      <td>Home</td>\n",
       "      <td>Superhero Girls Theme Party Favor Bags Candy B...</td>\n",
       "    </tr>\n",
       "    <tr>\n",
       "      <td>1</td>\n",
       "      <td>Home</td>\n",
       "      <td>Colored Mini Love Heart Wooden Clothespin Offi...</td>\n",
       "    </tr>\n",
       "    <tr>\n",
       "      <td>2</td>\n",
       "      <td>Home</td>\n",
       "      <td>Rose Gold 18th 21th 30th 40th 50th Birthday La...</td>\n",
       "    </tr>\n",
       "    <tr>\n",
       "      <td>3</td>\n",
       "      <td>Home</td>\n",
       "      <td>100 skeins embroidery floss embroidery thread ...</td>\n",
       "    </tr>\n",
       "    <tr>\n",
       "      <td>4</td>\n",
       "      <td>Home</td>\n",
       "      <td>2018 hot sale Lace accessories rice white blac...</td>\n",
       "    </tr>\n",
       "  </tbody>\n",
       "</table>\n",
       "</div>"
      ],
      "text/plain": [
       "  category                                           products\n",
       "0     Home  Superhero Girls Theme Party Favor Bags Candy B...\n",
       "1     Home  Colored Mini Love Heart Wooden Clothespin Offi...\n",
       "2     Home  Rose Gold 18th 21th 30th 40th 50th Birthday La...\n",
       "3     Home  100 skeins embroidery floss embroidery thread ...\n",
       "4     Home  2018 hot sale Lace accessories rice white blac..."
      ]
     },
     "execution_count": 41,
     "metadata": {},
     "output_type": "execute_result"
    }
   ],
   "source": [
    "ali_prod = ali_prod.merge(ali_dict, left_on='categoryId', right_on='categoryId')\n",
    "ali_prod = ali_prod[['text', 'titleModule.subject']]\n",
    "ali_prod.columns = ['category', 'products']\n",
    "ali_prod.head()"
   ]
  },
  {
   "cell_type": "code",
   "execution_count": 42,
   "metadata": {
    "jupyter": {
     "source_hidden": true
    },
    "pycharm": {
     "is_executing": false
    }
   },
   "outputs": [],
   "source": [
    "consumer_electronic = ali_prod[ali_prod['category'] == \"Consumer Electronics\"]"
   ]
  },
  {
   "cell_type": "code",
   "execution_count": 43,
   "metadata": {
    "jupyter": {
     "outputs_hidden": true,
     "source_hidden": true
    },
    "pycharm": {
     "is_executing": false,
     "name": "#%%\n"
    }
   },
   "outputs": [
    {
     "data": {
      "text/html": [
       "<div>\n",
       "<style scoped>\n",
       "    .dataframe tbody tr th:only-of-type {\n",
       "        vertical-align: middle;\n",
       "    }\n",
       "\n",
       "    .dataframe tbody tr th {\n",
       "        vertical-align: top;\n",
       "    }\n",
       "\n",
       "    .dataframe thead th {\n",
       "        text-align: right;\n",
       "    }\n",
       "</style>\n",
       "<table border=\"1\" class=\"dataframe\">\n",
       "  <thead>\n",
       "    <tr style=\"text-align: right;\">\n",
       "      <th></th>\n",
       "      <th>category</th>\n",
       "      <th>products</th>\n",
       "    </tr>\n",
       "  </thead>\n",
       "  <tbody>\n",
       "    <tr>\n",
       "      <td>666604</td>\n",
       "      <td>Consumer Electronics</td>\n",
       "      <td>Hotsell 2x bateria NP-BN1 np bn1 NPBN1 battery...</td>\n",
       "    </tr>\n",
       "    <tr>\n",
       "      <td>667677</td>\n",
       "      <td>Consumer Electronics</td>\n",
       "      <td>Ear pads 45mm 50mm 55mm 60mm 65mm 70mm 75mm 80...</td>\n",
       "    </tr>\n",
       "    <tr>\n",
       "      <td>667782</td>\n",
       "      <td>Consumer Electronics</td>\n",
       "      <td>Panoramic 360 Degree Rotation Swivel dslr Came...</td>\n",
       "    </tr>\n",
       "    <tr>\n",
       "      <td>668708</td>\n",
       "      <td>Consumer Electronics</td>\n",
       "      <td>TV Remote Controller control For RM-L1098+8 hu...</td>\n",
       "    </tr>\n",
       "    <tr>\n",
       "      <td>668994</td>\n",
       "      <td>Consumer Electronics</td>\n",
       "      <td>Micro single camera wide plate wrist band hand...</td>\n",
       "    </tr>\n",
       "    <tr>\n",
       "      <td>...</td>\n",
       "      <td>...</td>\n",
       "      <td>...</td>\n",
       "    </tr>\n",
       "    <tr>\n",
       "      <td>707838</td>\n",
       "      <td>Consumer Electronics</td>\n",
       "      <td>Universal Remote Control 1PCS RM-88E TV/VCD/DV...</td>\n",
       "    </tr>\n",
       "    <tr>\n",
       "      <td>707880</td>\n",
       "      <td>Consumer Electronics</td>\n",
       "      <td>wired Earphone for iphone 5 s 6s SE xiaomi bas...</td>\n",
       "    </tr>\n",
       "    <tr>\n",
       "      <td>707953</td>\n",
       "      <td>Consumer Electronics</td>\n",
       "      <td>100% Original SONY MH750 in Ear earphone BASS ...</td>\n",
       "    </tr>\n",
       "    <tr>\n",
       "      <td>708413</td>\n",
       "      <td>Consumer Electronics</td>\n",
       "      <td>Universal Remote Control For LG LCD LED HDTV 3...</td>\n",
       "    </tr>\n",
       "    <tr>\n",
       "      <td>708530</td>\n",
       "      <td>Consumer Electronics</td>\n",
       "      <td>Foleto Tilt M42 Screw Mount Lens adapter ring ...</td>\n",
       "    </tr>\n",
       "  </tbody>\n",
       "</table>\n",
       "<p>129 rows × 2 columns</p>\n",
       "</div>"
      ],
      "text/plain": [
       "                    category  \\\n",
       "666604  Consumer Electronics   \n",
       "667677  Consumer Electronics   \n",
       "667782  Consumer Electronics   \n",
       "668708  Consumer Electronics   \n",
       "668994  Consumer Electronics   \n",
       "...                      ...   \n",
       "707838  Consumer Electronics   \n",
       "707880  Consumer Electronics   \n",
       "707953  Consumer Electronics   \n",
       "708413  Consumer Electronics   \n",
       "708530  Consumer Electronics   \n",
       "\n",
       "                                                 products  \n",
       "666604  Hotsell 2x bateria NP-BN1 np bn1 NPBN1 battery...  \n",
       "667677  Ear pads 45mm 50mm 55mm 60mm 65mm 70mm 75mm 80...  \n",
       "667782  Panoramic 360 Degree Rotation Swivel dslr Came...  \n",
       "668708  TV Remote Controller control For RM-L1098+8 hu...  \n",
       "668994  Micro single camera wide plate wrist band hand...  \n",
       "...                                                   ...  \n",
       "707838  Universal Remote Control 1PCS RM-88E TV/VCD/DV...  \n",
       "707880  wired Earphone for iphone 5 s 6s SE xiaomi bas...  \n",
       "707953  100% Original SONY MH750 in Ear earphone BASS ...  \n",
       "708413  Universal Remote Control For LG LCD LED HDTV 3...  \n",
       "708530  Foleto Tilt M42 Screw Mount Lens adapter ring ...  \n",
       "\n",
       "[129 rows x 2 columns]"
      ]
     },
     "execution_count": 43,
     "metadata": {},
     "output_type": "execute_result"
    }
   ],
   "source": [
    "consumer_electronic[consumer_electronic['products'].str.contains(\"sony\")]"
   ]
  },
  {
   "cell_type": "code",
   "execution_count": 44,
   "metadata": {
    "jupyter": {
     "outputs_hidden": true,
     "source_hidden": true
    },
    "pycharm": {
     "is_executing": false
    }
   },
   "outputs": [
    {
     "data": {
      "text/html": [
       "<div>\n",
       "<style scoped>\n",
       "    .dataframe tbody tr th:only-of-type {\n",
       "        vertical-align: middle;\n",
       "    }\n",
       "\n",
       "    .dataframe tbody tr th {\n",
       "        vertical-align: top;\n",
       "    }\n",
       "\n",
       "    .dataframe thead th {\n",
       "        text-align: right;\n",
       "    }\n",
       "</style>\n",
       "<table border=\"1\" class=\"dataframe\">\n",
       "  <thead>\n",
       "    <tr style=\"text-align: right;\">\n",
       "      <th></th>\n",
       "      <th>product_type</th>\n",
       "      <th>title</th>\n",
       "    </tr>\n",
       "  </thead>\n",
       "  <tbody>\n",
       "    <tr>\n",
       "      <td>0</td>\n",
       "      <td>Sweater</td>\n",
       "      <td>Homebody Sweater</td>\n",
       "    </tr>\n",
       "    <tr>\n",
       "      <td>1</td>\n",
       "      <td>NaN</td>\n",
       "      <td>Single Stone Zip Hoodie - Sulfur Black</td>\n",
       "    </tr>\n",
       "    <tr>\n",
       "      <td>2</td>\n",
       "      <td>Top</td>\n",
       "      <td>Subliminal Top</td>\n",
       "    </tr>\n",
       "    <tr>\n",
       "      <td>3</td>\n",
       "      <td>NaN</td>\n",
       "      <td>2X4 Denim - Rinse</td>\n",
       "    </tr>\n",
       "    <tr>\n",
       "      <td>4</td>\n",
       "      <td>Dress</td>\n",
       "      <td>Peek-A-Vu Dress</td>\n",
       "    </tr>\n",
       "  </tbody>\n",
       "</table>\n",
       "</div>"
      ],
      "text/plain": [
       "  product_type                                   title\n",
       "0      Sweater                        Homebody Sweater\n",
       "1          NaN  Single Stone Zip Hoodie - Sulfur Black\n",
       "2          Top                          Subliminal Top\n",
       "3          NaN                       2X4 Denim - Rinse\n",
       "4        Dress                         Peek-A-Vu Dress"
      ]
     },
     "execution_count": 44,
     "metadata": {},
     "output_type": "execute_result"
    }
   ],
   "source": [
    "shopify_prod.head()"
   ]
  },
  {
   "cell_type": "code",
   "execution_count": 45,
   "metadata": {
    "jupyter": {
     "outputs_hidden": true,
     "source_hidden": true
    },
    "pycharm": {
     "is_executing": false
    }
   },
   "outputs": [
    {
     "data": {
      "text/plain": [
       "(615943, 2)"
      ]
     },
     "execution_count": 45,
     "metadata": {},
     "output_type": "execute_result"
    }
   ],
   "source": [
    "shopify_prod.shape"
   ]
  },
  {
   "cell_type": "code",
   "execution_count": 46,
   "metadata": {
    "jupyter": {
     "outputs_hidden": true,
     "source_hidden": true
    },
    "pycharm": {
     "is_executing": false
    }
   },
   "outputs": [
    {
     "data": {
      "text/plain": [
       "(545980, 2)"
      ]
     },
     "execution_count": 46,
     "metadata": {},
     "output_type": "execute_result"
    }
   ],
   "source": [
    "# Filter missing. Not necessary though.\n",
    "shopify_prod = shopify_prod[shopify_prod.product_type.notnull()]\n",
    "shopify_prod.shape"
   ]
  },
  {
   "cell_type": "code",
   "execution_count": 47,
   "metadata": {
    "jupyter": {
     "outputs_hidden": true,
     "source_hidden": true
    },
    "pycharm": {
     "is_executing": false
    }
   },
   "outputs": [
    {
     "data": {
      "text/plain": [
       "Home                           107307\n",
       "Men's Fashion                   80847\n",
       "Automobiles & Motorcycles       76090\n",
       "Women's Fashion                 74405\n",
       "Computer                        67782\n",
       "Outdoor Fun & Sports            66664\n",
       "Jewelry                         61206\n",
       "Beauty, Health                  60290\n",
       "Bags                            51846\n",
       "Home Improvement                47495\n",
       "Phones & Telecommunications     44301\n",
       "Consumer Electronics            42178\n",
       "Toys                            41394\n",
       "Name: category, dtype: int64"
      ]
     },
     "execution_count": 47,
     "metadata": {},
     "output_type": "execute_result"
    }
   ],
   "source": [
    "ali_prod['category'].value_counts()"
   ]
  },
  {
   "cell_type": "code",
   "execution_count": 48,
   "metadata": {
    "jupyter": {
     "source_hidden": true
    },
    "pycharm": {
     "is_executing": false
    }
   },
   "outputs": [],
   "source": [
    "map_for_target = {\"Home\": 0, \"Men's Fashion\": 1, \"Automobiles & Motorcycles\": 2, \"Women's Fashion\": 3, \"Computer\": 4,\n",
    "                  \"Outdoor Fun & Sports\": 5, \"Jewelry\": 6, \"Beauty, Health\": 7, \"Bags\": 8, \"Home Improvement\": 9, \n",
    "                  \"Phones & Telecommunications\": 10, \"Consumer Electronics\": 11, \"Toys\": 12}\n",
    "inv_map = {v: k for k, v in map_for_target.items()}"
   ]
  },
  {
   "cell_type": "code",
   "execution_count": 49,
   "metadata": {},
   "outputs": [
    {
     "data": {
      "text/plain": [
       "{0: 'Home',\n",
       " 1: \"Men's Fashion\",\n",
       " 2: 'Automobiles & Motorcycles',\n",
       " 3: \"Women's Fashion\",\n",
       " 4: 'Computer',\n",
       " 5: 'Outdoor Fun & Sports',\n",
       " 6: 'Jewelry',\n",
       " 7: 'Beauty, Health',\n",
       " 8: 'Bags',\n",
       " 9: 'Home Improvement',\n",
       " 10: 'Phones & Telecommunications',\n",
       " 11: 'Consumer Electronics',\n",
       " 12: 'Toys'}"
      ]
     },
     "execution_count": 49,
     "metadata": {},
     "output_type": "execute_result"
    }
   ],
   "source": [
    "inv_map"
   ]
  },
  {
   "cell_type": "code",
   "execution_count": 50,
   "metadata": {},
   "outputs": [],
   "source": [
    "inv_map = {0: 15,\n",
    "           1: 100003070,\n",
    "           2: 34,\n",
    "           3: 100003109,\n",
    "           4: 7,\n",
    "           5: 18,\n",
    "           6: 1509,\n",
    "           7: 66,\n",
    "           8: 1524,\n",
    "           9: 13,\n",
    "           10: 509,\n",
    "           11: 44,\n",
    "           12: 26\n",
    "}"
   ]
  },
  {
   "cell_type": "code",
   "execution_count": 51,
   "metadata": {
    "jupyter": {
     "outputs_hidden": false
    },
    "pycharm": {
     "is_executing": false,
     "name": "#%%\n"
    }
   },
   "outputs": [],
   "source": [
    "with open(\"categories.pickle\", \"wb\") as handle:\n",
    "    pickle.dump(inv_map, handle, protocol=pickle.HIGHEST_PROTOCOL)"
   ]
  },
  {
   "cell_type": "code",
   "execution_count": 52,
   "metadata": {
    "pycharm": {
     "is_executing": false
    }
   },
   "outputs": [
    {
     "data": {
      "text/html": [
       "<div>\n",
       "<style scoped>\n",
       "    .dataframe tbody tr th:only-of-type {\n",
       "        vertical-align: middle;\n",
       "    }\n",
       "\n",
       "    .dataframe tbody tr th {\n",
       "        vertical-align: top;\n",
       "    }\n",
       "\n",
       "    .dataframe thead th {\n",
       "        text-align: right;\n",
       "    }\n",
       "</style>\n",
       "<table border=\"1\" class=\"dataframe\">\n",
       "  <thead>\n",
       "    <tr style=\"text-align: right;\">\n",
       "      <th></th>\n",
       "      <th>category</th>\n",
       "      <th>products</th>\n",
       "      <th>target</th>\n",
       "    </tr>\n",
       "  </thead>\n",
       "  <tbody>\n",
       "    <tr>\n",
       "      <td>0</td>\n",
       "      <td>Home</td>\n",
       "      <td>Superhero Girls Theme Party Favor Bags Candy B...</td>\n",
       "      <td>0</td>\n",
       "    </tr>\n",
       "    <tr>\n",
       "      <td>1</td>\n",
       "      <td>Home</td>\n",
       "      <td>Colored Mini Love Heart Wooden Clothespin Offi...</td>\n",
       "      <td>0</td>\n",
       "    </tr>\n",
       "    <tr>\n",
       "      <td>2</td>\n",
       "      <td>Home</td>\n",
       "      <td>Rose Gold 18th 21th 30th 40th 50th Birthday La...</td>\n",
       "      <td>0</td>\n",
       "    </tr>\n",
       "    <tr>\n",
       "      <td>3</td>\n",
       "      <td>Home</td>\n",
       "      <td>100 skeins embroidery floss embroidery thread ...</td>\n",
       "      <td>0</td>\n",
       "    </tr>\n",
       "    <tr>\n",
       "      <td>4</td>\n",
       "      <td>Home</td>\n",
       "      <td>2018 hot sale Lace accessories rice white blac...</td>\n",
       "      <td>0</td>\n",
       "    </tr>\n",
       "  </tbody>\n",
       "</table>\n",
       "</div>"
      ],
      "text/plain": [
       "  category                                           products  target\n",
       "0     Home  Superhero Girls Theme Party Favor Bags Candy B...       0\n",
       "1     Home  Colored Mini Love Heart Wooden Clothespin Offi...       0\n",
       "2     Home  Rose Gold 18th 21th 30th 40th 50th Birthday La...       0\n",
       "3     Home  100 skeins embroidery floss embroidery thread ...       0\n",
       "4     Home  2018 hot sale Lace accessories rice white blac...       0"
      ]
     },
     "execution_count": 52,
     "metadata": {},
     "output_type": "execute_result"
    }
   ],
   "source": [
    "ali_prod['target'] = ali_prod['category'].map(map_for_target)\n",
    "ali_prod.head()"
   ]
  },
  {
   "cell_type": "code",
   "execution_count": 54,
   "metadata": {
    "pycharm": {
     "is_executing": false
    }
   },
   "outputs": [],
   "source": [
    "X = ali_prod['products'].values\n",
    "y = ali_prod['target'].values"
   ]
  },
  {
   "cell_type": "code",
   "execution_count": 55,
   "metadata": {
    "pycharm": {
     "is_executing": false
    }
   },
   "outputs": [],
   "source": [
    "X_train, X_test, y_train, y_test = train_test_split(X, y, test_size=0.2, random_state=42, stratify=y)"
   ]
  },
  {
   "cell_type": "code",
   "execution_count": 56,
   "metadata": {
    "pycharm": {
     "is_executing": false
    }
   },
   "outputs": [
    {
     "data": {
      "text/plain": [
       "array(['Adomaner Cosmetic Brush Cleaning Tool Egg Makeup Brushes Washing Tool Foundation Powder Seiketsu Outil Silicone Scrubber Cleaner',\n",
       "       'Women Summer Boho Dress Formal One Shoulder Party Bodycon Ladies Clubwear Sundress',\n",
       "       'Electric Hot Stone Needle Scraping Board Scraping Knife Heating Scraper Rib GuaSha Instrument for Massage Meridian Gua Sha Tool',\n",
       "       '21cm Dragon Ball Super Saiyan Vegeta Trunks PVC Action Figures dramatic showcase Dragonball Model Toy Doll Figuras',\n",
       "       'KMC Chain HP1L K-Z7 K-Z99 chain super light chain mtb road bicycle',\n",
       "       '2019 Women Cotton Socks Animal Cat Art Animation Character Cute Gift Dress Sock happy funny socks fancy crazy sox L311',\n",
       "       'Smokeless Moxibustion + Aromatherapy Moxa Red LED Light Device Foot Massager With Heat For Health Care Pain Relief Therapy',\n",
       "       'Yomay women Sports Bras Fitness Sports Bra Top Shockproof Shapes Quick Dry Running Gym Adjustable Underwear push up Yoga Bra Top',\n",
       "       'Black/White/Gold For Huawei Mate 9 Lite Premium Edition BLL-L23 LCD Display + Touch Screen Digitizer Assembly Replacement +Tools',\n",
       "       'Real Touch rose Bud 25pcs/lot Artificial silk wedding Flowers bouquet Home decorations for Wedding Party or Birthday Small buds'],\n",
       "      dtype=object)"
      ]
     },
     "execution_count": 56,
     "metadata": {},
     "output_type": "execute_result"
    }
   ],
   "source": [
    "X_train[:10]"
   ]
  },
  {
   "cell_type": "code",
   "execution_count": 57,
   "metadata": {
    "pycharm": {
     "is_executing": false
    }
   },
   "outputs": [],
   "source": [
    "vectorizer_train = TfidfVectorizer(min_df=1)\n",
    "vec_form = vectorizer_train.fit_transform(X_train)"
   ]
  },
  {
   "cell_type": "code",
   "execution_count": 58,
   "metadata": {
    "pycharm": {
     "is_executing": false
    }
   },
   "outputs": [],
   "source": [
    "svd = TruncatedSVD(n_components=50, n_iter=100)\n",
    "svd_train_topic = svd.fit_transform(vec_form)"
   ]
  },
  {
   "cell_type": "code",
   "execution_count": 61,
   "metadata": {
    "pycharm": {
     "is_executing": false
    }
   },
   "outputs": [],
   "source": [
    "# Random Forest as initial choice.\n",
    "rf_classifier = RandomForestClassifier(n_estimators=100, random_state=5, n_jobs=-1)"
   ]
  },
  {
   "cell_type": "code",
   "execution_count": 62,
   "metadata": {
    "scrolled": true
   },
   "outputs": [
    {
     "data": {
      "text/plain": [
       "RandomForestClassifier(bootstrap=True, class_weight=None, criterion='gini',\n",
       "                       max_depth=None, max_features='auto', max_leaf_nodes=None,\n",
       "                       min_impurity_decrease=0.0, min_impurity_split=None,\n",
       "                       min_samples_leaf=1, min_samples_split=2,\n",
       "                       min_weight_fraction_leaf=0.0, n_estimators=100,\n",
       "                       n_jobs=-1, oob_score=False, random_state=5, verbose=0,\n",
       "                       warm_start=False)"
      ]
     },
     "execution_count": 62,
     "metadata": {},
     "output_type": "execute_result"
    }
   ],
   "source": [
    "rf_classifier.fit(svd_train_topic, y_train)"
   ]
  },
  {
   "cell_type": "code",
   "execution_count": 63,
   "metadata": {
    "pycharm": {
     "is_executing": false
    }
   },
   "outputs": [],
   "source": [
    "vec_form_test = vectorizer_train.transform(X_test)\n",
    "svd_test_topic = svd.transform(vec_form_test)"
   ]
  },
  {
   "cell_type": "code",
   "execution_count": 64,
   "metadata": {
    "pycharm": {
     "is_executing": false
    }
   },
   "outputs": [
    {
     "data": {
      "text/plain": [
       "XGBClassifier(base_score=0.5, booster='gbtree', colsample_bylevel=1,\n",
       "              colsample_bynode=1, colsample_bytree=1, gamma=0,\n",
       "              learning_rate=0.01, max_delta_step=0, max_depth=3,\n",
       "              min_child_weight=1, missing=None, n_estimators=100, n_jobs=6,\n",
       "              nthread=None, objective='multi:softprob', random_state=12,\n",
       "              reg_alpha=0, reg_lambda=1, scale_pos_weight=1, seed=None,\n",
       "              silent=None, subsample=1, verbosity=1)"
      ]
     },
     "execution_count": 64,
     "metadata": {},
     "output_type": "execute_result"
    }
   ],
   "source": [
    "xgb_class = xgb.XGBClassifier(random_state=12, learning_rate=0.01,\n",
    "                              n_estimators=100, n_jobs=6)\n",
    "xgb_class.fit(svd_train_topic, y_train)"
   ]
  },
  {
   "cell_type": "code",
   "execution_count": 65,
   "metadata": {
    "jupyter": {
     "outputs_hidden": false
    },
    "pycharm": {
     "is_executing": false,
     "name": "#%%\n"
    }
   },
   "outputs": [],
   "source": [
    "y_pred_xgb = xgb_class.predict(svd_test_topic)"
   ]
  },
  {
   "cell_type": "code",
   "execution_count": 67,
   "metadata": {
    "jupyter": {
     "outputs_hidden": false
    },
    "pycharm": {
     "name": "#%%\n"
    }
   },
   "outputs": [],
   "source": [
    "y_pred_rf = rf_classifier.predict(svd_test_topic)"
   ]
  },
  {
   "cell_type": "code",
   "execution_count": 68,
   "metadata": {
    "pycharm": {
     "is_executing": false,
     "name": "#%%\n"
    },
    "scrolled": true
   },
   "outputs": [
    {
     "data": {
      "text/plain": [
       "0.7207123344345678"
      ]
     },
     "execution_count": 68,
     "metadata": {},
     "output_type": "execute_result"
    }
   ],
   "source": [
    "accuracy_score(y_test, y_pred_xgb)"
   ]
  },
  {
   "cell_type": "code",
   "execution_count": 69,
   "metadata": {
    "jupyter": {
     "outputs_hidden": false
    },
    "pycharm": {
     "name": "#%%\n"
    }
   },
   "outputs": [
    {
     "data": {
      "text/plain": [
       "0.869561513984461"
      ]
     },
     "execution_count": 69,
     "metadata": {},
     "output_type": "execute_result"
    }
   ],
   "source": [
    "accuracy_score(y_test, y_pred_rf)"
   ]
  },
  {
   "cell_type": "code",
   "execution_count": 70,
   "metadata": {
    "pycharm": {
     "is_executing": false
    }
   },
   "outputs": [],
   "source": [
    "# All dataset\n",
    "vectorizer_all = TfidfVectorizer(min_df=1)\n",
    "vec_all_data = vectorizer_all.fit_transform(X)"
   ]
  },
  {
   "cell_type": "code",
   "execution_count": 71,
   "metadata": {
    "jupyter": {
     "outputs_hidden": false
    },
    "pycharm": {
     "is_executing": false,
     "name": "#%%\n"
    }
   },
   "outputs": [
    {
     "data": {
      "text/plain": [
       "['vectorize.pkl']"
      ]
     },
     "execution_count": 71,
     "metadata": {},
     "output_type": "execute_result"
    }
   ],
   "source": [
    "joblib.dump(vectorizer_all, \"vectorize.pkl\")"
   ]
  },
  {
   "cell_type": "code",
   "execution_count": 72,
   "metadata": {
    "jupyter": {
     "outputs_hidden": false
    },
    "pycharm": {
     "is_executing": false,
     "name": "#%%\n"
    }
   },
   "outputs": [],
   "source": [
    "with open(\"tf_idf.pickle\", \"wb\") as handle:\n",
    "    pickle.dump(vectorizer_all, handle, protocol=pickle.HIGHEST_PROTOCOL)"
   ]
  },
  {
   "cell_type": "code",
   "execution_count": 73,
   "metadata": {
    "pycharm": {
     "is_executing": false
    }
   },
   "outputs": [],
   "source": [
    "svd_all = TruncatedSVD(n_components=50, n_iter=100)\n",
    "svd_all_topic = svd_all.fit_transform(vec_all_data)"
   ]
  },
  {
   "cell_type": "code",
   "execution_count": 74,
   "metadata": {
    "jupyter": {
     "outputs_hidden": false
    },
    "pycharm": {
     "is_executing": false,
     "name": "#%%\n"
    }
   },
   "outputs": [
    {
     "data": {
      "text/plain": [
       "['svd.pkl']"
      ]
     },
     "execution_count": 74,
     "metadata": {},
     "output_type": "execute_result"
    }
   ],
   "source": [
    "joblib.dump(svd_all, \"svd.pkl\")"
   ]
  },
  {
   "cell_type": "code",
   "execution_count": 75,
   "metadata": {
    "jupyter": {
     "outputs_hidden": false
    },
    "pycharm": {
     "is_executing": false,
     "name": "#%%\n"
    }
   },
   "outputs": [],
   "source": [
    "with open(\"svd.pickle\", \"wb\") as handle:\n",
    "    pickle.dump(svd_all, handle, protocol=pickle.HIGHEST_PROTOCOL)"
   ]
  },
  {
   "cell_type": "code",
   "execution_count": 76,
   "metadata": {
    "pycharm": {
     "is_executing": false
    }
   },
   "outputs": [
    {
     "data": {
      "text/plain": [
       "RandomForestClassifier(bootstrap=True, class_weight=None, criterion='gini',\n",
       "                       max_depth=None, max_features='auto', max_leaf_nodes=None,\n",
       "                       min_impurity_decrease=0.0, min_impurity_split=None,\n",
       "                       min_samples_leaf=1, min_samples_split=2,\n",
       "                       min_weight_fraction_leaf=0.0, n_estimators=100,\n",
       "                       n_jobs=-1, oob_score=False, random_state=5, verbose=0,\n",
       "                       warm_start=False)"
      ]
     },
     "execution_count": 76,
     "metadata": {},
     "output_type": "execute_result"
    }
   ],
   "source": [
    "clf = RandomForestClassifier(n_estimators=100, random_state=5, n_jobs=-1)\n",
    "clf.fit(svd_all_topic, y)"
   ]
  },
  {
   "cell_type": "code",
   "execution_count": 77,
   "metadata": {
    "jupyter": {
     "outputs_hidden": false
    },
    "pycharm": {
     "is_executing": false,
     "name": "#%%\n"
    }
   },
   "outputs": [
    {
     "data": {
      "text/plain": [
       "['clf.pkl']"
      ]
     },
     "execution_count": 77,
     "metadata": {},
     "output_type": "execute_result"
    }
   ],
   "source": [
    "joblib.dump(clf, \"clf.pkl\")"
   ]
  },
  {
   "cell_type": "code",
   "execution_count": 78,
   "metadata": {},
   "outputs": [],
   "source": [
    "with open(\"rf_clf.pickle\", \"wb\") as handle:\n",
    "    pickle.dump(clf, handle, protocol=pickle.HIGHEST_PROTOCOL)"
   ]
  },
  {
   "cell_type": "code",
   "execution_count": 79,
   "metadata": {},
   "outputs": [],
   "source": [
    "with open('rf_clf.pickle', 'rb') as handle:\n",
    "    clf_2 = pickle.load(handle)"
   ]
  },
  {
   "cell_type": "code",
   "execution_count": 80,
   "metadata": {},
   "outputs": [],
   "source": [
    "vec_for_pred = vectorizer_all.transform(shopify_prod.title)"
   ]
  },
  {
   "cell_type": "code",
   "execution_count": 81,
   "metadata": {},
   "outputs": [],
   "source": [
    "svd_for_pred = svd_all.transform(vec_for_pred)"
   ]
  },
  {
   "cell_type": "code",
   "execution_count": 82,
   "metadata": {},
   "outputs": [],
   "source": [
    "target_pred = clf.predict(svd_for_pred)"
   ]
  },
  {
   "cell_type": "code",
   "execution_count": 83,
   "metadata": {},
   "outputs": [
    {
     "data": {
      "text/plain": [
       "array([3, 3, 3, 3, 3, 1, 1, 4, 1, 0], dtype=int64)"
      ]
     },
     "execution_count": 83,
     "metadata": {},
     "output_type": "execute_result"
    }
   ],
   "source": [
    "target_pred[:10]"
   ]
  },
  {
   "cell_type": "code",
   "execution_count": 84,
   "metadata": {},
   "outputs": [
    {
     "data": {
      "text/html": [
       "<div>\n",
       "<style scoped>\n",
       "    .dataframe tbody tr th:only-of-type {\n",
       "        vertical-align: middle;\n",
       "    }\n",
       "\n",
       "    .dataframe tbody tr th {\n",
       "        vertical-align: top;\n",
       "    }\n",
       "\n",
       "    .dataframe thead th {\n",
       "        text-align: right;\n",
       "    }\n",
       "</style>\n",
       "<table border=\"1\" class=\"dataframe\">\n",
       "  <thead>\n",
       "    <tr style=\"text-align: right;\">\n",
       "      <th></th>\n",
       "      <th>product_type</th>\n",
       "      <th>title</th>\n",
       "      <th>Cat</th>\n",
       "      <th>Aliexpress_category</th>\n",
       "    </tr>\n",
       "  </thead>\n",
       "  <tbody>\n",
       "    <tr>\n",
       "      <td>0</td>\n",
       "      <td>Sweater</td>\n",
       "      <td>Homebody Sweater</td>\n",
       "      <td>3</td>\n",
       "      <td>100003109</td>\n",
       "    </tr>\n",
       "    <tr>\n",
       "      <td>2</td>\n",
       "      <td>Top</td>\n",
       "      <td>Subliminal Top</td>\n",
       "      <td>3</td>\n",
       "      <td>100003109</td>\n",
       "    </tr>\n",
       "    <tr>\n",
       "      <td>4</td>\n",
       "      <td>Dress</td>\n",
       "      <td>Peek-A-Vu Dress</td>\n",
       "      <td>3</td>\n",
       "      <td>100003109</td>\n",
       "    </tr>\n",
       "    <tr>\n",
       "      <td>6</td>\n",
       "      <td>Dress</td>\n",
       "      <td>Pop Quiz Dress</td>\n",
       "      <td>3</td>\n",
       "      <td>100003109</td>\n",
       "    </tr>\n",
       "    <tr>\n",
       "      <td>8</td>\n",
       "      <td>Top</td>\n",
       "      <td>Leo Rising Top</td>\n",
       "      <td>3</td>\n",
       "      <td>100003109</td>\n",
       "    </tr>\n",
       "  </tbody>\n",
       "</table>\n",
       "</div>"
      ],
      "text/plain": [
       "  product_type             title  Cat  Aliexpress_category\n",
       "0      Sweater  Homebody Sweater    3            100003109\n",
       "2          Top    Subliminal Top    3            100003109\n",
       "4        Dress   Peek-A-Vu Dress    3            100003109\n",
       "6        Dress    Pop Quiz Dress    3            100003109\n",
       "8          Top    Leo Rising Top    3            100003109"
      ]
     },
     "execution_count": 84,
     "metadata": {},
     "output_type": "execute_result"
    }
   ],
   "source": [
    "shopify_prod['Cat'] = target_pred\n",
    "shopify_prod['Aliexpress_category'] = shopify_prod['Cat'].map(inv_map)\n",
    "shopify_prod[:5]"
   ]
  },
  {
   "cell_type": "code",
   "execution_count": 85,
   "metadata": {},
   "outputs": [],
   "source": [
    "shopify_prod = shopify_prod[['product_type', 'title', 'Aliexpress_category']]"
   ]
  },
  {
   "cell_type": "code",
   "execution_count": 86,
   "metadata": {},
   "outputs": [],
   "source": [
    "shopify_prod.to_csv(\"ml_match.csv\", header=True, index=False)"
   ]
  },
  {
   "cell_type": "code",
   "execution_count": 87,
   "metadata": {},
   "outputs": [
    {
     "data": {
      "text/html": [
       "<div>\n",
       "<style scoped>\n",
       "    .dataframe tbody tr th:only-of-type {\n",
       "        vertical-align: middle;\n",
       "    }\n",
       "\n",
       "    .dataframe tbody tr th {\n",
       "        vertical-align: top;\n",
       "    }\n",
       "\n",
       "    .dataframe thead th {\n",
       "        text-align: right;\n",
       "    }\n",
       "</style>\n",
       "<table border=\"1\" class=\"dataframe\">\n",
       "  <thead>\n",
       "    <tr style=\"text-align: right;\">\n",
       "      <th></th>\n",
       "      <th>product_type</th>\n",
       "      <th>title</th>\n",
       "      <th>Aliexpress_category</th>\n",
       "    </tr>\n",
       "  </thead>\n",
       "  <tbody>\n",
       "    <tr>\n",
       "      <td>534967</td>\n",
       "      <td>Women,Women's Clothing,Women's_Lingerie, Sleep...</td>\n",
       "      <td>SHEIN | Plus Applique Floral Lace Bralette</td>\n",
       "      <td>100003109</td>\n",
       "    </tr>\n",
       "    <tr>\n",
       "      <td>534968</td>\n",
       "      <td>Fashion Accessories</td>\n",
       "      <td>Monogrammed Hip Flask</td>\n",
       "      <td>100003070</td>\n",
       "    </tr>\n",
       "    <tr>\n",
       "      <td>534969</td>\n",
       "      <td>Sweats</td>\n",
       "      <td>Sweat Homme Gizmo</td>\n",
       "      <td>100003070</td>\n",
       "    </tr>\n",
       "    <tr>\n",
       "      <td>534970</td>\n",
       "      <td>Women,Women's Clothing,Women's_Dresses,Women,C...</td>\n",
       "      <td>SHEIN | Plus Cat Print Cami Dress</td>\n",
       "      <td>100003109</td>\n",
       "    </tr>\n",
       "    <tr>\n",
       "      <td>534971</td>\n",
       "      <td>Apparel</td>\n",
       "      <td>Cut Out Bralette</td>\n",
       "      <td>100003109</td>\n",
       "    </tr>\n",
       "    <tr>\n",
       "      <td>534972</td>\n",
       "      <td>Bath &amp; Beauty</td>\n",
       "      <td>Essential Oil Set</td>\n",
       "      <td>15</td>\n",
       "    </tr>\n",
       "    <tr>\n",
       "      <td>534973</td>\n",
       "      <td>Apparel</td>\n",
       "      <td>Breeze Strappy Tank</td>\n",
       "      <td>44</td>\n",
       "    </tr>\n",
       "    <tr>\n",
       "      <td>534974</td>\n",
       "      <td>Women,Women's Clothing,Women's_Pants,Women,Clo...</td>\n",
       "      <td>adidas by Stella McCartney | Performance Essen...</td>\n",
       "      <td>18</td>\n",
       "    </tr>\n",
       "  </tbody>\n",
       "</table>\n",
       "</div>"
      ],
      "text/plain": [
       "                                             product_type  \\\n",
       "534967  Women,Women's Clothing,Women's_Lingerie, Sleep...   \n",
       "534968                                Fashion Accessories   \n",
       "534969                                             Sweats   \n",
       "534970  Women,Women's Clothing,Women's_Dresses,Women,C...   \n",
       "534971                                            Apparel   \n",
       "534972                                      Bath & Beauty   \n",
       "534973                                            Apparel   \n",
       "534974  Women,Women's Clothing,Women's_Pants,Women,Clo...   \n",
       "\n",
       "                                                    title  Aliexpress_category  \n",
       "534967         SHEIN | Plus Applique Floral Lace Bralette            100003109  \n",
       "534968                              Monogrammed Hip Flask            100003070  \n",
       "534969                                  Sweat Homme Gizmo            100003070  \n",
       "534970                  SHEIN | Plus Cat Print Cami Dress            100003109  \n",
       "534971                                   Cut Out Bralette            100003109  \n",
       "534972                                  Essential Oil Set                   15  \n",
       "534973                                Breeze Strappy Tank                   44  \n",
       "534974  adidas by Stella McCartney | Performance Essen...                   18  "
      ]
     },
     "execution_count": 87,
     "metadata": {},
     "output_type": "execute_result"
    }
   ],
   "source": [
    "shopify_prod[477330:477338]"
   ]
  },
  {
   "cell_type": "code",
   "execution_count": 88,
   "metadata": {},
   "outputs": [
    {
     "data": {
      "text/plain": [
       "15           97985\n",
       "18           74783\n",
       "100003070    65871\n",
       "100003109    52650\n",
       "44           50914\n",
       "13           39564\n",
       "66           36712\n",
       "1509         32091\n",
       "7            31622\n",
       "26           20771\n",
       "34           20675\n",
       "1524         11475\n",
       "509          10867\n",
       "Name: Aliexpress_category, dtype: int64"
      ]
     },
     "execution_count": 88,
     "metadata": {},
     "output_type": "execute_result"
    }
   ],
   "source": [
    "shopify_prod['Aliexpress_category'].value_counts()"
   ]
  },
  {
   "cell_type": "code",
   "execution_count": 98,
   "metadata": {},
   "outputs": [
    {
     "data": {
      "text/html": [
       "<div>\n",
       "<style scoped>\n",
       "    .dataframe tbody tr th:only-of-type {\n",
       "        vertical-align: middle;\n",
       "    }\n",
       "\n",
       "    .dataframe tbody tr th {\n",
       "        vertical-align: top;\n",
       "    }\n",
       "\n",
       "    .dataframe thead th {\n",
       "        text-align: right;\n",
       "    }\n",
       "</style>\n",
       "<table border=\"1\" class=\"dataframe\">\n",
       "  <thead>\n",
       "    <tr style=\"text-align: right;\">\n",
       "      <th></th>\n",
       "      <th>product_type</th>\n",
       "      <th>title</th>\n",
       "      <th>Aliexpress_category</th>\n",
       "    </tr>\n",
       "  </thead>\n",
       "  <tbody>\n",
       "    <tr>\n",
       "      <td>0</td>\n",
       "      <td>Sweater</td>\n",
       "      <td>Homebody Sweater</td>\n",
       "      <td>100003109</td>\n",
       "    </tr>\n",
       "    <tr>\n",
       "      <td>2</td>\n",
       "      <td>Top</td>\n",
       "      <td>Subliminal Top</td>\n",
       "      <td>100003109</td>\n",
       "    </tr>\n",
       "    <tr>\n",
       "      <td>4</td>\n",
       "      <td>Dress</td>\n",
       "      <td>Peek-A-Vu Dress</td>\n",
       "      <td>100003109</td>\n",
       "    </tr>\n",
       "    <tr>\n",
       "      <td>6</td>\n",
       "      <td>Dress</td>\n",
       "      <td>Pop Quiz Dress</td>\n",
       "      <td>100003109</td>\n",
       "    </tr>\n",
       "    <tr>\n",
       "      <td>8</td>\n",
       "      <td>Top</td>\n",
       "      <td>Leo Rising Top</td>\n",
       "      <td>100003109</td>\n",
       "    </tr>\n",
       "  </tbody>\n",
       "</table>\n",
       "</div>"
      ],
      "text/plain": [
       "  product_type             title  Aliexpress_category\n",
       "0      Sweater  Homebody Sweater            100003109\n",
       "2          Top    Subliminal Top            100003109\n",
       "4        Dress   Peek-A-Vu Dress            100003109\n",
       "6        Dress    Pop Quiz Dress            100003109\n",
       "8          Top    Leo Rising Top            100003109"
      ]
     },
     "execution_count": 98,
     "metadata": {},
     "output_type": "execute_result"
    }
   ],
   "source": [
    "shopify_prod.head()"
   ]
  },
  {
   "cell_type": "code",
   "execution_count": 122,
   "metadata": {},
   "outputs": [],
   "source": [
    "def getNumericCategoryId(categoryName):\n",
    "    return list(ali_dict[ali_dict.text == categoryName].categoryId)[0]"
   ]
  },
  {
   "cell_type": "code",
   "execution_count": 123,
   "metadata": {},
   "outputs": [
    {
     "data": {
      "text/plain": [
       "18"
      ]
     },
     "execution_count": 123,
     "metadata": {},
     "output_type": "execute_result"
    }
   ],
   "source": [
    "getNumericCategoryId(\"Outdoor Fun & Sports\")"
   ]
  },
  {
   "cell_type": "code",
   "execution_count": 129,
   "metadata": {},
   "outputs": [],
   "source": [
    "shopify_prod = shopify_prod[['Aliexpress_category', 'title']]"
   ]
  },
  {
   "cell_type": "code",
   "execution_count": 131,
   "metadata": {},
   "outputs": [
    {
     "data": {
      "text/html": [
       "<div>\n",
       "<style scoped>\n",
       "    .dataframe tbody tr th:only-of-type {\n",
       "        vertical-align: middle;\n",
       "    }\n",
       "\n",
       "    .dataframe tbody tr th {\n",
       "        vertical-align: top;\n",
       "    }\n",
       "\n",
       "    .dataframe thead th {\n",
       "        text-align: right;\n",
       "    }\n",
       "</style>\n",
       "<table border=\"1\" class=\"dataframe\">\n",
       "  <thead>\n",
       "    <tr style=\"text-align: right;\">\n",
       "      <th></th>\n",
       "      <th>Aliexpress_category</th>\n",
       "      <th>title</th>\n",
       "    </tr>\n",
       "  </thead>\n",
       "  <tbody>\n",
       "    <tr>\n",
       "      <td>90451</td>\n",
       "      <td>15</td>\n",
       "      <td>ADP Cirno - Touhou Project Anime Dakimakura Ja...</td>\n",
       "    </tr>\n",
       "    <tr>\n",
       "      <td>355987</td>\n",
       "      <td>15</td>\n",
       "      <td>Kitchen Chef Knife Set 2 - Olive wood Handle a...</td>\n",
       "    </tr>\n",
       "    <tr>\n",
       "      <td>88951</td>\n",
       "      <td>15</td>\n",
       "      <td>Pirate Treasure Party Cup 16 fl oz | 1ct</td>\n",
       "    </tr>\n",
       "    <tr>\n",
       "      <td>58517</td>\n",
       "      <td>15</td>\n",
       "      <td>Logo Colorblock Sweater</td>\n",
       "    </tr>\n",
       "    <tr>\n",
       "      <td>264806</td>\n",
       "      <td>15</td>\n",
       "      <td>Gamma Phase 2 Butterfly Knife 2.0</td>\n",
       "    </tr>\n",
       "    <tr>\n",
       "      <td>14052</td>\n",
       "      <td>15</td>\n",
       "      <td>Buddz New cute smiley face purse</td>\n",
       "    </tr>\n",
       "    <tr>\n",
       "      <td>444239</td>\n",
       "      <td>15</td>\n",
       "      <td>Le Specs Revolution Gold</td>\n",
       "    </tr>\n",
       "    <tr>\n",
       "      <td>215819</td>\n",
       "      <td>15</td>\n",
       "      <td>Cozy Habits Ivory Multi Stripe Eyelash Sweater</td>\n",
       "    </tr>\n",
       "    <tr>\n",
       "      <td>522343</td>\n",
       "      <td>15</td>\n",
       "      <td>Striped Shawl Collar Pocket Cardigan in Toasty...</td>\n",
       "    </tr>\n",
       "    <tr>\n",
       "      <td>236755</td>\n",
       "      <td>15</td>\n",
       "      <td>Prosecco Scented Gold Glitter Bath Bombs</td>\n",
       "    </tr>\n",
       "  </tbody>\n",
       "</table>\n",
       "</div>"
      ],
      "text/plain": [
       "        Aliexpress_category                                              title\n",
       "90451                    15  ADP Cirno - Touhou Project Anime Dakimakura Ja...\n",
       "355987                   15  Kitchen Chef Knife Set 2 - Olive wood Handle a...\n",
       "88951                    15           Pirate Treasure Party Cup 16 fl oz | 1ct\n",
       "58517                    15                            Logo Colorblock Sweater\n",
       "264806                   15                  Gamma Phase 2 Butterfly Knife 2.0\n",
       "14052                    15                   Buddz New cute smiley face purse\n",
       "444239                   15                           Le Specs Revolution Gold\n",
       "215819                   15     Cozy Habits Ivory Multi Stripe Eyelash Sweater\n",
       "522343                   15  Striped Shawl Collar Pocket Cardigan in Toasty...\n",
       "236755                   15           Prosecco Scented Gold Glitter Bath Bombs"
      ]
     },
     "execution_count": 131,
     "metadata": {},
     "output_type": "execute_result"
    }
   ],
   "source": [
    "shopify_prod[shopify_prod.Aliexpress_category == getNumericCategoryId(\"Home\") ].sample(n = 10)"
   ]
  },
  {
   "cell_type": "code",
   "execution_count": 125,
   "metadata": {},
   "outputs": [
    {
     "data": {
      "text/html": [
       "<div>\n",
       "<style scoped>\n",
       "    .dataframe tbody tr th:only-of-type {\n",
       "        vertical-align: middle;\n",
       "    }\n",
       "\n",
       "    .dataframe tbody tr th {\n",
       "        vertical-align: top;\n",
       "    }\n",
       "\n",
       "    .dataframe thead th {\n",
       "        text-align: right;\n",
       "    }\n",
       "</style>\n",
       "<table border=\"1\" class=\"dataframe\">\n",
       "  <thead>\n",
       "    <tr style=\"text-align: right;\">\n",
       "      <th></th>\n",
       "      <th>product_type</th>\n",
       "      <th>title</th>\n",
       "      <th>Aliexpress_category</th>\n",
       "    </tr>\n",
       "  </thead>\n",
       "  <tbody>\n",
       "    <tr>\n",
       "      <td>341689</td>\n",
       "      <td>Socks</td>\n",
       "      <td>Army Trainer Socks Unisex Crew Sock</td>\n",
       "      <td>18</td>\n",
       "    </tr>\n",
       "    <tr>\n",
       "      <td>35618</td>\n",
       "      <td>underwear</td>\n",
       "      <td>Bam(Bare) Pimaluxe Boxer Brief 2-Pack Bundle</td>\n",
       "      <td>18</td>\n",
       "    </tr>\n",
       "    <tr>\n",
       "      <td>113809</td>\n",
       "      <td>ACC_Decorative Object</td>\n",
       "      <td>Lys Outdoor Flameless Candle, Set of 3 - Ivory</td>\n",
       "      <td>18</td>\n",
       "    </tr>\n",
       "    <tr>\n",
       "      <td>130950</td>\n",
       "      <td>Belt</td>\n",
       "      <td>Slay Yes Corset Belt</td>\n",
       "      <td>18</td>\n",
       "    </tr>\n",
       "    <tr>\n",
       "      <td>233926</td>\n",
       "      <td>Bras</td>\n",
       "      <td>Fantasie Illusion Underwire Side Support Bra N...</td>\n",
       "      <td>18</td>\n",
       "    </tr>\n",
       "    <tr>\n",
       "      <td>522536</td>\n",
       "      <td>Light</td>\n",
       "      <td>Pelican 7070R Tactical Flashlight</td>\n",
       "      <td>18</td>\n",
       "    </tr>\n",
       "    <tr>\n",
       "      <td>154343</td>\n",
       "      <td>Hand Tools</td>\n",
       "      <td>21-Piece Precision Electronics Driver Set</td>\n",
       "      <td>18</td>\n",
       "    </tr>\n",
       "    <tr>\n",
       "      <td>563438</td>\n",
       "      <td>Bottom</td>\n",
       "      <td>HORIZON STRIPE RACHEL BIKINI BOTTOM</td>\n",
       "      <td>18</td>\n",
       "    </tr>\n",
       "    <tr>\n",
       "      <td>302956</td>\n",
       "      <td>Sunglasses</td>\n",
       "      <td>Willow Black Hex Sunglasses</td>\n",
       "      <td>18</td>\n",
       "    </tr>\n",
       "    <tr>\n",
       "      <td>184999</td>\n",
       "      <td>Sillones Individuales</td>\n",
       "      <td>Columbus Sillón Individual de Tela Quantum - V...</td>\n",
       "      <td>18</td>\n",
       "    </tr>\n",
       "  </tbody>\n",
       "</table>\n",
       "</div>"
      ],
      "text/plain": [
       "                 product_type  \\\n",
       "341689                  Socks   \n",
       "35618               underwear   \n",
       "113809  ACC_Decorative Object   \n",
       "130950                   Belt   \n",
       "233926                   Bras   \n",
       "522536                  Light   \n",
       "154343             Hand Tools   \n",
       "563438                 Bottom   \n",
       "302956             Sunglasses   \n",
       "184999  Sillones Individuales   \n",
       "\n",
       "                                                    title  Aliexpress_category  \n",
       "341689                Army Trainer Socks Unisex Crew Sock                   18  \n",
       "35618        Bam(Bare) Pimaluxe Boxer Brief 2-Pack Bundle                   18  \n",
       "113809     Lys Outdoor Flameless Candle, Set of 3 - Ivory                   18  \n",
       "130950                               Slay Yes Corset Belt                   18  \n",
       "233926  Fantasie Illusion Underwire Side Support Bra N...                   18  \n",
       "522536                  Pelican 7070R Tactical Flashlight                   18  \n",
       "154343          21-Piece Precision Electronics Driver Set                   18  \n",
       "563438                HORIZON STRIPE RACHEL BIKINI BOTTOM                   18  \n",
       "302956                        Willow Black Hex Sunglasses                   18  \n",
       "184999  Columbus Sillón Individual de Tela Quantum - V...                   18  "
      ]
     },
     "execution_count": 125,
     "metadata": {},
     "output_type": "execute_result"
    }
   ],
   "source": [
    "shopify_prod[shopify_prod.Aliexpress_category == getNumericCategoryId(\"Outdoor Fun & Sports\")].sample(10)"
   ]
  },
  {
   "cell_type": "code",
   "execution_count": 126,
   "metadata": {},
   "outputs": [
    {
     "data": {
      "text/html": [
       "<div>\n",
       "<style scoped>\n",
       "    .dataframe tbody tr th:only-of-type {\n",
       "        vertical-align: middle;\n",
       "    }\n",
       "\n",
       "    .dataframe tbody tr th {\n",
       "        vertical-align: top;\n",
       "    }\n",
       "\n",
       "    .dataframe thead th {\n",
       "        text-align: right;\n",
       "    }\n",
       "</style>\n",
       "<table border=\"1\" class=\"dataframe\">\n",
       "  <thead>\n",
       "    <tr style=\"text-align: right;\">\n",
       "      <th></th>\n",
       "      <th>product_type</th>\n",
       "      <th>title</th>\n",
       "      <th>Aliexpress_category</th>\n",
       "    </tr>\n",
       "  </thead>\n",
       "  <tbody>\n",
       "    <tr>\n",
       "      <td>378781</td>\n",
       "      <td>Long Sleeve T-Shirt</td>\n",
       "      <td>Scherzday Long Sleeve T-Shirt</td>\n",
       "      <td>100003070</td>\n",
       "    </tr>\n",
       "    <tr>\n",
       "      <td>427798</td>\n",
       "      <td>Soft Shell Jacket</td>\n",
       "      <td>Arc'teryx LEAF Patrol Jacket AR</td>\n",
       "      <td>100003070</td>\n",
       "    </tr>\n",
       "    <tr>\n",
       "      <td>278459</td>\n",
       "      <td>Jackets &amp; Sweatshirts</td>\n",
       "      <td>Gremlins Shadow Long-Sleeve T-shirt</td>\n",
       "      <td>100003070</td>\n",
       "    </tr>\n",
       "    <tr>\n",
       "      <td>278797</td>\n",
       "      <td>SHIRTS</td>\n",
       "      <td>\"THE EVAN DENIM\" T-SHIRT</td>\n",
       "      <td>100003070</td>\n",
       "    </tr>\n",
       "    <tr>\n",
       "      <td>378884</td>\n",
       "      <td>Long Sleeve T-Shirt</td>\n",
       "      <td>Pitchers&amp;Catchers Long Sleeve T-Shirt</td>\n",
       "      <td>100003070</td>\n",
       "    </tr>\n",
       "    <tr>\n",
       "      <td>394812</td>\n",
       "      <td>Long Sleeve Shirt</td>\n",
       "      <td>Jordan Retro 1 SBB Shattered Backboard - TALK ...</td>\n",
       "      <td>100003070</td>\n",
       "    </tr>\n",
       "    <tr>\n",
       "      <td>25188</td>\n",
       "      <td>Watches</td>\n",
       "      <td>Ice-Watch Ice Slim Black Matte Women's Watch 0...</td>\n",
       "      <td>100003070</td>\n",
       "    </tr>\n",
       "    <tr>\n",
       "      <td>65803</td>\n",
       "      <td>Silicone Rings</td>\n",
       "      <td>Men's Strata Realtree Antler Silicone Ring - O...</td>\n",
       "      <td>100003070</td>\n",
       "    </tr>\n",
       "    <tr>\n",
       "      <td>500034</td>\n",
       "      <td>HOODIE</td>\n",
       "      <td>Diagonal Vintage Over Hoodie - Anthracite Mult...</td>\n",
       "      <td>100003070</td>\n",
       "    </tr>\n",
       "    <tr>\n",
       "      <td>586240</td>\n",
       "      <td>TOPS</td>\n",
       "      <td>Secret Lasagna X Garfield X The Hundreds T-Shirt</td>\n",
       "      <td>100003070</td>\n",
       "    </tr>\n",
       "  </tbody>\n",
       "</table>\n",
       "</div>"
      ],
      "text/plain": [
       "                 product_type  \\\n",
       "378781    Long Sleeve T-Shirt   \n",
       "427798      Soft Shell Jacket   \n",
       "278459  Jackets & Sweatshirts   \n",
       "278797                 SHIRTS   \n",
       "378884    Long Sleeve T-Shirt   \n",
       "394812      Long Sleeve Shirt   \n",
       "25188                 Watches   \n",
       "65803          Silicone Rings   \n",
       "500034                 HOODIE   \n",
       "586240                   TOPS   \n",
       "\n",
       "                                                    title  Aliexpress_category  \n",
       "378781                      Scherzday Long Sleeve T-Shirt            100003070  \n",
       "427798                    Arc'teryx LEAF Patrol Jacket AR            100003070  \n",
       "278459                Gremlins Shadow Long-Sleeve T-shirt            100003070  \n",
       "278797                           \"THE EVAN DENIM\" T-SHIRT            100003070  \n",
       "378884              Pitchers&Catchers Long Sleeve T-Shirt            100003070  \n",
       "394812  Jordan Retro 1 SBB Shattered Backboard - TALK ...            100003070  \n",
       "25188   Ice-Watch Ice Slim Black Matte Women's Watch 0...            100003070  \n",
       "65803   Men's Strata Realtree Antler Silicone Ring - O...            100003070  \n",
       "500034  Diagonal Vintage Over Hoodie - Anthracite Mult...            100003070  \n",
       "586240   Secret Lasagna X Garfield X The Hundreds T-Shirt            100003070  "
      ]
     },
     "execution_count": 126,
     "metadata": {},
     "output_type": "execute_result"
    }
   ],
   "source": [
    "shopify_prod[shopify_prod.Aliexpress_category == getNumericCategoryId(\"Men's Fashion\")].sample(10)"
   ]
  },
  {
   "cell_type": "code",
   "execution_count": 128,
   "metadata": {},
   "outputs": [
    {
     "data": {
      "text/html": [
       "<div>\n",
       "<style scoped>\n",
       "    .dataframe tbody tr th:only-of-type {\n",
       "        vertical-align: middle;\n",
       "    }\n",
       "\n",
       "    .dataframe tbody tr th {\n",
       "        vertical-align: top;\n",
       "    }\n",
       "\n",
       "    .dataframe thead th {\n",
       "        text-align: right;\n",
       "    }\n",
       "</style>\n",
       "<table border=\"1\" class=\"dataframe\">\n",
       "  <thead>\n",
       "    <tr style=\"text-align: right;\">\n",
       "      <th></th>\n",
       "      <th>product_type</th>\n",
       "      <th>title</th>\n",
       "      <th>Aliexpress_category</th>\n",
       "    </tr>\n",
       "  </thead>\n",
       "  <tbody>\n",
       "    <tr>\n",
       "      <td>399509</td>\n",
       "      <td>iPhone 11 Pro Max Case</td>\n",
       "      <td>Smiley Flowers iPhone 11 Pro Max Case</td>\n",
       "      <td>509</td>\n",
       "    </tr>\n",
       "    <tr>\n",
       "      <td>399928</td>\n",
       "      <td>iPhone Xr Case</td>\n",
       "      <td>Neon Flames iPhone Xr Case</td>\n",
       "      <td>509</td>\n",
       "    </tr>\n",
       "    <tr>\n",
       "      <td>322558</td>\n",
       "      <td>Camo Cases</td>\n",
       "      <td>Navy Camo iPhone Case</td>\n",
       "      <td>509</td>\n",
       "    </tr>\n",
       "    <tr>\n",
       "      <td>579306</td>\n",
       "      <td>Supplement</td>\n",
       "      <td>Max Pump</td>\n",
       "      <td>509</td>\n",
       "    </tr>\n",
       "    <tr>\n",
       "      <td>528829</td>\n",
       "      <td>Phone Cases</td>\n",
       "      <td>3D Retro Camera Lanyard Phone holder Case for ...</td>\n",
       "      <td>509</td>\n",
       "    </tr>\n",
       "    <tr>\n",
       "      <td>567549</td>\n",
       "      <td>Screen Protector</td>\n",
       "      <td>LK for Samsung Galaxy Note 9 Screen Protector,...</td>\n",
       "      <td>509</td>\n",
       "    </tr>\n",
       "    <tr>\n",
       "      <td>281811</td>\n",
       "      <td>Book</td>\n",
       "      <td>Genesys RPG: Expanded Player's Guide Hardcover...</td>\n",
       "      <td>509</td>\n",
       "    </tr>\n",
       "    <tr>\n",
       "      <td>418892</td>\n",
       "      <td>Galaxy A7 2018</td>\n",
       "      <td>Luxury Artistic Marble Glass Case for Galaxy A...</td>\n",
       "      <td>509</td>\n",
       "    </tr>\n",
       "    <tr>\n",
       "      <td>207558</td>\n",
       "      <td>Phone Cases</td>\n",
       "      <td>Korean Cartoon Drinks iPhone Case</td>\n",
       "      <td>509</td>\n",
       "    </tr>\n",
       "    <tr>\n",
       "      <td>100074</td>\n",
       "      <td>Projector Lamps</td>\n",
       "      <td>SAMSUNG HLR5667 (BP96-00826A) Projection TV As...</td>\n",
       "      <td>509</td>\n",
       "    </tr>\n",
       "  </tbody>\n",
       "</table>\n",
       "</div>"
      ],
      "text/plain": [
       "                  product_type  \\\n",
       "399509  iPhone 11 Pro Max Case   \n",
       "399928          iPhone Xr Case   \n",
       "322558              Camo Cases   \n",
       "579306              Supplement   \n",
       "528829             Phone Cases   \n",
       "567549        Screen Protector   \n",
       "281811                    Book   \n",
       "418892          Galaxy A7 2018   \n",
       "207558             Phone Cases   \n",
       "100074         Projector Lamps   \n",
       "\n",
       "                                                    title  Aliexpress_category  \n",
       "399509              Smiley Flowers iPhone 11 Pro Max Case                  509  \n",
       "399928                         Neon Flames iPhone Xr Case                  509  \n",
       "322558                              Navy Camo iPhone Case                  509  \n",
       "579306                                           Max Pump                  509  \n",
       "528829  3D Retro Camera Lanyard Phone holder Case for ...                  509  \n",
       "567549  LK for Samsung Galaxy Note 9 Screen Protector,...                  509  \n",
       "281811  Genesys RPG: Expanded Player's Guide Hardcover...                  509  \n",
       "418892  Luxury Artistic Marble Glass Case for Galaxy A...                  509  \n",
       "207558                  Korean Cartoon Drinks iPhone Case                  509  \n",
       "100074  SAMSUNG HLR5667 (BP96-00826A) Projection TV As...                  509  "
      ]
     },
     "execution_count": 128,
     "metadata": {},
     "output_type": "execute_result"
    }
   ],
   "source": [
    "shopify_prod[shopify_prod.Aliexpress_category == getNumericCategoryId(\"Phones & Telecommunications\")].sample(10)"
   ]
  },
  {
   "cell_type": "code",
   "execution_count": null,
   "metadata": {},
   "outputs": [],
   "source": []
  }
 ],
 "metadata": {
  "kernelspec": {
   "display_name": "Python 3",
   "language": "python",
   "name": "python3"
  },
  "language_info": {
   "codemirror_mode": {
    "name": "ipython",
    "version": 3
   },
   "file_extension": ".py",
   "mimetype": "text/x-python",
   "name": "python",
   "nbconvert_exporter": "python",
   "pygments_lexer": "ipython3",
   "version": "3.7.4"
  },
  "pycharm": {
   "stem_cell": {
    "cell_type": "raw",
    "metadata": {
     "collapsed": false
    },
    "source": []
   }
  }
 },
 "nbformat": 4,
 "nbformat_minor": 4
}
